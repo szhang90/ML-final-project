{
  "nbformat": 4,
  "nbformat_minor": 0,
  "metadata": {
    "accelerator": "GPU",
    "colab": {
      "name": "ml.final",
      "provenance": [],
      "collapsed_sections": [],
      "toc_visible": true
    },
    "kernelspec": {
      "display_name": "Python 3",
      "name": "python3"
    },
    "widgets": {
      "application/vnd.jupyter.widget-state+json": {
        "4e26a56622ed49ec8a5416119e3ffa26": {
          "model_module": "@jupyter-widgets/controls",
          "model_name": "HBoxModel",
          "state": {
            "_view_name": "HBoxView",
            "_dom_classes": [],
            "_model_name": "HBoxModel",
            "_view_module": "@jupyter-widgets/controls",
            "_model_module_version": "1.5.0",
            "_view_count": null,
            "_view_module_version": "1.5.0",
            "box_style": "",
            "layout": "IPY_MODEL_b23276565b804e8786ae90ed18b117bb",
            "_model_module": "@jupyter-widgets/controls",
            "children": [
              "IPY_MODEL_bb054c2cf9e34685a6e1035fe105cbcc",
              "IPY_MODEL_b8ff1e0bfd9b473190f773a9637ec573"
            ]
          }
        },
        "b23276565b804e8786ae90ed18b117bb": {
          "model_module": "@jupyter-widgets/base",
          "model_name": "LayoutModel",
          "state": {
            "_view_name": "LayoutView",
            "grid_template_rows": null,
            "right": null,
            "justify_content": null,
            "_view_module": "@jupyter-widgets/base",
            "overflow": null,
            "_model_module_version": "1.2.0",
            "_view_count": null,
            "flex_flow": null,
            "width": null,
            "min_width": null,
            "border": null,
            "align_items": null,
            "bottom": null,
            "_model_module": "@jupyter-widgets/base",
            "top": null,
            "grid_column": null,
            "overflow_y": null,
            "overflow_x": null,
            "grid_auto_flow": null,
            "grid_area": null,
            "grid_template_columns": null,
            "flex": null,
            "_model_name": "LayoutModel",
            "justify_items": null,
            "grid_row": null,
            "max_height": null,
            "align_content": null,
            "visibility": null,
            "align_self": null,
            "height": null,
            "min_height": null,
            "padding": null,
            "grid_auto_rows": null,
            "grid_gap": null,
            "max_width": null,
            "order": null,
            "_view_module_version": "1.2.0",
            "grid_template_areas": null,
            "object_position": null,
            "object_fit": null,
            "grid_auto_columns": null,
            "margin": null,
            "display": null,
            "left": null
          }
        },
        "bb054c2cf9e34685a6e1035fe105cbcc": {
          "model_module": "@jupyter-widgets/controls",
          "model_name": "FloatProgressModel",
          "state": {
            "_view_name": "ProgressView",
            "style": "IPY_MODEL_f8441aaff2e7459d95b8dea61b58d579",
            "_dom_classes": [],
            "description": "100%",
            "_model_name": "FloatProgressModel",
            "bar_style": "success",
            "max": 500,
            "_view_module": "@jupyter-widgets/controls",
            "_model_module_version": "1.5.0",
            "value": 500,
            "_view_count": null,
            "_view_module_version": "1.5.0",
            "orientation": "horizontal",
            "min": 0,
            "description_tooltip": null,
            "_model_module": "@jupyter-widgets/controls",
            "layout": "IPY_MODEL_398f04e5b79645fdb09c3283b6e709d2"
          }
        },
        "b8ff1e0bfd9b473190f773a9637ec573": {
          "model_module": "@jupyter-widgets/controls",
          "model_name": "HTMLModel",
          "state": {
            "_view_name": "HTMLView",
            "style": "IPY_MODEL_fc801d34eb584c1786cefd73a2d74eae",
            "_dom_classes": [],
            "description": "",
            "_model_name": "HTMLModel",
            "placeholder": "​",
            "_view_module": "@jupyter-widgets/controls",
            "_model_module_version": "1.5.0",
            "value": " 500/500 [06:55&lt;00:00,  1.20it/s]",
            "_view_count": null,
            "_view_module_version": "1.5.0",
            "description_tooltip": null,
            "_model_module": "@jupyter-widgets/controls",
            "layout": "IPY_MODEL_ade9002744d34f1bab5769befcda9dae"
          }
        },
        "f8441aaff2e7459d95b8dea61b58d579": {
          "model_module": "@jupyter-widgets/controls",
          "model_name": "ProgressStyleModel",
          "state": {
            "_view_name": "StyleView",
            "_model_name": "ProgressStyleModel",
            "description_width": "initial",
            "_view_module": "@jupyter-widgets/base",
            "_model_module_version": "1.5.0",
            "_view_count": null,
            "_view_module_version": "1.2.0",
            "bar_color": null,
            "_model_module": "@jupyter-widgets/controls"
          }
        },
        "398f04e5b79645fdb09c3283b6e709d2": {
          "model_module": "@jupyter-widgets/base",
          "model_name": "LayoutModel",
          "state": {
            "_view_name": "LayoutView",
            "grid_template_rows": null,
            "right": null,
            "justify_content": null,
            "_view_module": "@jupyter-widgets/base",
            "overflow": null,
            "_model_module_version": "1.2.0",
            "_view_count": null,
            "flex_flow": null,
            "width": null,
            "min_width": null,
            "border": null,
            "align_items": null,
            "bottom": null,
            "_model_module": "@jupyter-widgets/base",
            "top": null,
            "grid_column": null,
            "overflow_y": null,
            "overflow_x": null,
            "grid_auto_flow": null,
            "grid_area": null,
            "grid_template_columns": null,
            "flex": null,
            "_model_name": "LayoutModel",
            "justify_items": null,
            "grid_row": null,
            "max_height": null,
            "align_content": null,
            "visibility": null,
            "align_self": null,
            "height": null,
            "min_height": null,
            "padding": null,
            "grid_auto_rows": null,
            "grid_gap": null,
            "max_width": null,
            "order": null,
            "_view_module_version": "1.2.0",
            "grid_template_areas": null,
            "object_position": null,
            "object_fit": null,
            "grid_auto_columns": null,
            "margin": null,
            "display": null,
            "left": null
          }
        },
        "fc801d34eb584c1786cefd73a2d74eae": {
          "model_module": "@jupyter-widgets/controls",
          "model_name": "DescriptionStyleModel",
          "state": {
            "_view_name": "StyleView",
            "_model_name": "DescriptionStyleModel",
            "description_width": "",
            "_view_module": "@jupyter-widgets/base",
            "_model_module_version": "1.5.0",
            "_view_count": null,
            "_view_module_version": "1.2.0",
            "_model_module": "@jupyter-widgets/controls"
          }
        },
        "ade9002744d34f1bab5769befcda9dae": {
          "model_module": "@jupyter-widgets/base",
          "model_name": "LayoutModel",
          "state": {
            "_view_name": "LayoutView",
            "grid_template_rows": null,
            "right": null,
            "justify_content": null,
            "_view_module": "@jupyter-widgets/base",
            "overflow": null,
            "_model_module_version": "1.2.0",
            "_view_count": null,
            "flex_flow": null,
            "width": null,
            "min_width": null,
            "border": null,
            "align_items": null,
            "bottom": null,
            "_model_module": "@jupyter-widgets/base",
            "top": null,
            "grid_column": null,
            "overflow_y": null,
            "overflow_x": null,
            "grid_auto_flow": null,
            "grid_area": null,
            "grid_template_columns": null,
            "flex": null,
            "_model_name": "LayoutModel",
            "justify_items": null,
            "grid_row": null,
            "max_height": null,
            "align_content": null,
            "visibility": null,
            "align_self": null,
            "height": null,
            "min_height": null,
            "padding": null,
            "grid_auto_rows": null,
            "grid_gap": null,
            "max_width": null,
            "order": null,
            "_view_module_version": "1.2.0",
            "grid_template_areas": null,
            "object_position": null,
            "object_fit": null,
            "grid_auto_columns": null,
            "margin": null,
            "display": null,
            "left": null
          }
        },
        "2553bc98d41c42619a2bc92b09c4889f": {
          "model_module": "@jupyter-widgets/controls",
          "model_name": "HBoxModel",
          "state": {
            "_view_name": "HBoxView",
            "_dom_classes": [],
            "_model_name": "HBoxModel",
            "_view_module": "@jupyter-widgets/controls",
            "_model_module_version": "1.5.0",
            "_view_count": null,
            "_view_module_version": "1.5.0",
            "box_style": "",
            "layout": "IPY_MODEL_5e8deca41f8f41f69f031345a441f9d0",
            "_model_module": "@jupyter-widgets/controls",
            "children": [
              "IPY_MODEL_835a0f8af1174b2cb607a5b55391372a",
              "IPY_MODEL_79ebfffbc15b4749a18c5fbea62c7af7"
            ]
          }
        },
        "5e8deca41f8f41f69f031345a441f9d0": {
          "model_module": "@jupyter-widgets/base",
          "model_name": "LayoutModel",
          "state": {
            "_view_name": "LayoutView",
            "grid_template_rows": null,
            "right": null,
            "justify_content": null,
            "_view_module": "@jupyter-widgets/base",
            "overflow": null,
            "_model_module_version": "1.2.0",
            "_view_count": null,
            "flex_flow": null,
            "width": null,
            "min_width": null,
            "border": null,
            "align_items": null,
            "bottom": null,
            "_model_module": "@jupyter-widgets/base",
            "top": null,
            "grid_column": null,
            "overflow_y": null,
            "overflow_x": null,
            "grid_auto_flow": null,
            "grid_area": null,
            "grid_template_columns": null,
            "flex": null,
            "_model_name": "LayoutModel",
            "justify_items": null,
            "grid_row": null,
            "max_height": null,
            "align_content": null,
            "visibility": null,
            "align_self": null,
            "height": null,
            "min_height": null,
            "padding": null,
            "grid_auto_rows": null,
            "grid_gap": null,
            "max_width": null,
            "order": null,
            "_view_module_version": "1.2.0",
            "grid_template_areas": null,
            "object_position": null,
            "object_fit": null,
            "grid_auto_columns": null,
            "margin": null,
            "display": null,
            "left": null
          }
        },
        "835a0f8af1174b2cb607a5b55391372a": {
          "model_module": "@jupyter-widgets/controls",
          "model_name": "FloatProgressModel",
          "state": {
            "_view_name": "ProgressView",
            "style": "IPY_MODEL_9618953060e64099a0f18ebc56c237ed",
            "_dom_classes": [],
            "description": "100%",
            "_model_name": "FloatProgressModel",
            "bar_style": "success",
            "max": 500,
            "_view_module": "@jupyter-widgets/controls",
            "_model_module_version": "1.5.0",
            "value": 500,
            "_view_count": null,
            "_view_module_version": "1.5.0",
            "orientation": "horizontal",
            "min": 0,
            "description_tooltip": null,
            "_model_module": "@jupyter-widgets/controls",
            "layout": "IPY_MODEL_4996a8319ac0448b8885c98b4daa338a"
          }
        },
        "79ebfffbc15b4749a18c5fbea62c7af7": {
          "model_module": "@jupyter-widgets/controls",
          "model_name": "HTMLModel",
          "state": {
            "_view_name": "HTMLView",
            "style": "IPY_MODEL_0e06862817bf47fc95690f8911d18a70",
            "_dom_classes": [],
            "description": "",
            "_model_name": "HTMLModel",
            "placeholder": "​",
            "_view_module": "@jupyter-widgets/controls",
            "_model_module_version": "1.5.0",
            "value": " 500/500 [02:20&lt;00:00,  3.57it/s]",
            "_view_count": null,
            "_view_module_version": "1.5.0",
            "description_tooltip": null,
            "_model_module": "@jupyter-widgets/controls",
            "layout": "IPY_MODEL_b507b1785be14337926fe709a69ee6f0"
          }
        },
        "9618953060e64099a0f18ebc56c237ed": {
          "model_module": "@jupyter-widgets/controls",
          "model_name": "ProgressStyleModel",
          "state": {
            "_view_name": "StyleView",
            "_model_name": "ProgressStyleModel",
            "description_width": "initial",
            "_view_module": "@jupyter-widgets/base",
            "_model_module_version": "1.5.0",
            "_view_count": null,
            "_view_module_version": "1.2.0",
            "bar_color": null,
            "_model_module": "@jupyter-widgets/controls"
          }
        },
        "4996a8319ac0448b8885c98b4daa338a": {
          "model_module": "@jupyter-widgets/base",
          "model_name": "LayoutModel",
          "state": {
            "_view_name": "LayoutView",
            "grid_template_rows": null,
            "right": null,
            "justify_content": null,
            "_view_module": "@jupyter-widgets/base",
            "overflow": null,
            "_model_module_version": "1.2.0",
            "_view_count": null,
            "flex_flow": null,
            "width": null,
            "min_width": null,
            "border": null,
            "align_items": null,
            "bottom": null,
            "_model_module": "@jupyter-widgets/base",
            "top": null,
            "grid_column": null,
            "overflow_y": null,
            "overflow_x": null,
            "grid_auto_flow": null,
            "grid_area": null,
            "grid_template_columns": null,
            "flex": null,
            "_model_name": "LayoutModel",
            "justify_items": null,
            "grid_row": null,
            "max_height": null,
            "align_content": null,
            "visibility": null,
            "align_self": null,
            "height": null,
            "min_height": null,
            "padding": null,
            "grid_auto_rows": null,
            "grid_gap": null,
            "max_width": null,
            "order": null,
            "_view_module_version": "1.2.0",
            "grid_template_areas": null,
            "object_position": null,
            "object_fit": null,
            "grid_auto_columns": null,
            "margin": null,
            "display": null,
            "left": null
          }
        },
        "0e06862817bf47fc95690f8911d18a70": {
          "model_module": "@jupyter-widgets/controls",
          "model_name": "DescriptionStyleModel",
          "state": {
            "_view_name": "StyleView",
            "_model_name": "DescriptionStyleModel",
            "description_width": "",
            "_view_module": "@jupyter-widgets/base",
            "_model_module_version": "1.5.0",
            "_view_count": null,
            "_view_module_version": "1.2.0",
            "_model_module": "@jupyter-widgets/controls"
          }
        },
        "b507b1785be14337926fe709a69ee6f0": {
          "model_module": "@jupyter-widgets/base",
          "model_name": "LayoutModel",
          "state": {
            "_view_name": "LayoutView",
            "grid_template_rows": null,
            "right": null,
            "justify_content": null,
            "_view_module": "@jupyter-widgets/base",
            "overflow": null,
            "_model_module_version": "1.2.0",
            "_view_count": null,
            "flex_flow": null,
            "width": null,
            "min_width": null,
            "border": null,
            "align_items": null,
            "bottom": null,
            "_model_module": "@jupyter-widgets/base",
            "top": null,
            "grid_column": null,
            "overflow_y": null,
            "overflow_x": null,
            "grid_auto_flow": null,
            "grid_area": null,
            "grid_template_columns": null,
            "flex": null,
            "_model_name": "LayoutModel",
            "justify_items": null,
            "grid_row": null,
            "max_height": null,
            "align_content": null,
            "visibility": null,
            "align_self": null,
            "height": null,
            "min_height": null,
            "padding": null,
            "grid_auto_rows": null,
            "grid_gap": null,
            "max_width": null,
            "order": null,
            "_view_module_version": "1.2.0",
            "grid_template_areas": null,
            "object_position": null,
            "object_fit": null,
            "grid_auto_columns": null,
            "margin": null,
            "display": null,
            "left": null
          }
        },
        "b9021b668408495ca16606a78582c070": {
          "model_module": "@jupyter-widgets/controls",
          "model_name": "HBoxModel",
          "state": {
            "_view_name": "HBoxView",
            "_dom_classes": [],
            "_model_name": "HBoxModel",
            "_view_module": "@jupyter-widgets/controls",
            "_model_module_version": "1.5.0",
            "_view_count": null,
            "_view_module_version": "1.5.0",
            "box_style": "",
            "layout": "IPY_MODEL_d9796b64d1d34aa4b7ee0bed06a7d93b",
            "_model_module": "@jupyter-widgets/controls",
            "children": [
              "IPY_MODEL_b239f1cd17214c12833f34a2fb456205",
              "IPY_MODEL_e3d0145f42eb4fb682e3735bd79b6155"
            ]
          }
        },
        "d9796b64d1d34aa4b7ee0bed06a7d93b": {
          "model_module": "@jupyter-widgets/base",
          "model_name": "LayoutModel",
          "state": {
            "_view_name": "LayoutView",
            "grid_template_rows": null,
            "right": null,
            "justify_content": null,
            "_view_module": "@jupyter-widgets/base",
            "overflow": null,
            "_model_module_version": "1.2.0",
            "_view_count": null,
            "flex_flow": null,
            "width": null,
            "min_width": null,
            "border": null,
            "align_items": null,
            "bottom": null,
            "_model_module": "@jupyter-widgets/base",
            "top": null,
            "grid_column": null,
            "overflow_y": null,
            "overflow_x": null,
            "grid_auto_flow": null,
            "grid_area": null,
            "grid_template_columns": null,
            "flex": null,
            "_model_name": "LayoutModel",
            "justify_items": null,
            "grid_row": null,
            "max_height": null,
            "align_content": null,
            "visibility": null,
            "align_self": null,
            "height": null,
            "min_height": null,
            "padding": null,
            "grid_auto_rows": null,
            "grid_gap": null,
            "max_width": null,
            "order": null,
            "_view_module_version": "1.2.0",
            "grid_template_areas": null,
            "object_position": null,
            "object_fit": null,
            "grid_auto_columns": null,
            "margin": null,
            "display": null,
            "left": null
          }
        },
        "b239f1cd17214c12833f34a2fb456205": {
          "model_module": "@jupyter-widgets/controls",
          "model_name": "FloatProgressModel",
          "state": {
            "_view_name": "ProgressView",
            "style": "IPY_MODEL_53983cc06db245348a71fdf6eb739a91",
            "_dom_classes": [],
            "description": "100%",
            "_model_name": "FloatProgressModel",
            "bar_style": "success",
            "max": 500,
            "_view_module": "@jupyter-widgets/controls",
            "_model_module_version": "1.5.0",
            "value": 500,
            "_view_count": null,
            "_view_module_version": "1.5.0",
            "orientation": "horizontal",
            "min": 0,
            "description_tooltip": null,
            "_model_module": "@jupyter-widgets/controls",
            "layout": "IPY_MODEL_a06bb8eb70c64f02b6d1e061f5949be7"
          }
        },
        "e3d0145f42eb4fb682e3735bd79b6155": {
          "model_module": "@jupyter-widgets/controls",
          "model_name": "HTMLModel",
          "state": {
            "_view_name": "HTMLView",
            "style": "IPY_MODEL_4da02e7896354071830e1fb3ed20f2bb",
            "_dom_classes": [],
            "description": "",
            "_model_name": "HTMLModel",
            "placeholder": "​",
            "_view_module": "@jupyter-widgets/controls",
            "_model_module_version": "1.5.0",
            "value": " 500/500 [02:20&lt;00:00,  3.57it/s]",
            "_view_count": null,
            "_view_module_version": "1.5.0",
            "description_tooltip": null,
            "_model_module": "@jupyter-widgets/controls",
            "layout": "IPY_MODEL_a3bfc951ad034698b2dea5f748b3480f"
          }
        },
        "53983cc06db245348a71fdf6eb739a91": {
          "model_module": "@jupyter-widgets/controls",
          "model_name": "ProgressStyleModel",
          "state": {
            "_view_name": "StyleView",
            "_model_name": "ProgressStyleModel",
            "description_width": "initial",
            "_view_module": "@jupyter-widgets/base",
            "_model_module_version": "1.5.0",
            "_view_count": null,
            "_view_module_version": "1.2.0",
            "bar_color": null,
            "_model_module": "@jupyter-widgets/controls"
          }
        },
        "a06bb8eb70c64f02b6d1e061f5949be7": {
          "model_module": "@jupyter-widgets/base",
          "model_name": "LayoutModel",
          "state": {
            "_view_name": "LayoutView",
            "grid_template_rows": null,
            "right": null,
            "justify_content": null,
            "_view_module": "@jupyter-widgets/base",
            "overflow": null,
            "_model_module_version": "1.2.0",
            "_view_count": null,
            "flex_flow": null,
            "width": null,
            "min_width": null,
            "border": null,
            "align_items": null,
            "bottom": null,
            "_model_module": "@jupyter-widgets/base",
            "top": null,
            "grid_column": null,
            "overflow_y": null,
            "overflow_x": null,
            "grid_auto_flow": null,
            "grid_area": null,
            "grid_template_columns": null,
            "flex": null,
            "_model_name": "LayoutModel",
            "justify_items": null,
            "grid_row": null,
            "max_height": null,
            "align_content": null,
            "visibility": null,
            "align_self": null,
            "height": null,
            "min_height": null,
            "padding": null,
            "grid_auto_rows": null,
            "grid_gap": null,
            "max_width": null,
            "order": null,
            "_view_module_version": "1.2.0",
            "grid_template_areas": null,
            "object_position": null,
            "object_fit": null,
            "grid_auto_columns": null,
            "margin": null,
            "display": null,
            "left": null
          }
        },
        "4da02e7896354071830e1fb3ed20f2bb": {
          "model_module": "@jupyter-widgets/controls",
          "model_name": "DescriptionStyleModel",
          "state": {
            "_view_name": "StyleView",
            "_model_name": "DescriptionStyleModel",
            "description_width": "",
            "_view_module": "@jupyter-widgets/base",
            "_model_module_version": "1.5.0",
            "_view_count": null,
            "_view_module_version": "1.2.0",
            "_model_module": "@jupyter-widgets/controls"
          }
        },
        "a3bfc951ad034698b2dea5f748b3480f": {
          "model_module": "@jupyter-widgets/base",
          "model_name": "LayoutModel",
          "state": {
            "_view_name": "LayoutView",
            "grid_template_rows": null,
            "right": null,
            "justify_content": null,
            "_view_module": "@jupyter-widgets/base",
            "overflow": null,
            "_model_module_version": "1.2.0",
            "_view_count": null,
            "flex_flow": null,
            "width": null,
            "min_width": null,
            "border": null,
            "align_items": null,
            "bottom": null,
            "_model_module": "@jupyter-widgets/base",
            "top": null,
            "grid_column": null,
            "overflow_y": null,
            "overflow_x": null,
            "grid_auto_flow": null,
            "grid_area": null,
            "grid_template_columns": null,
            "flex": null,
            "_model_name": "LayoutModel",
            "justify_items": null,
            "grid_row": null,
            "max_height": null,
            "align_content": null,
            "visibility": null,
            "align_self": null,
            "height": null,
            "min_height": null,
            "padding": null,
            "grid_auto_rows": null,
            "grid_gap": null,
            "max_width": null,
            "order": null,
            "_view_module_version": "1.2.0",
            "grid_template_areas": null,
            "object_position": null,
            "object_fit": null,
            "grid_auto_columns": null,
            "margin": null,
            "display": null,
            "left": null
          }
        },
        "35195bc7448444919f05346ddf16fdc5": {
          "model_module": "@jupyter-widgets/controls",
          "model_name": "HBoxModel",
          "state": {
            "_view_name": "HBoxView",
            "_dom_classes": [],
            "_model_name": "HBoxModel",
            "_view_module": "@jupyter-widgets/controls",
            "_model_module_version": "1.5.0",
            "_view_count": null,
            "_view_module_version": "1.5.0",
            "box_style": "",
            "layout": "IPY_MODEL_076c7b9bf2974384ac8291215de9f0e8",
            "_model_module": "@jupyter-widgets/controls",
            "children": [
              "IPY_MODEL_280fd32c55254a37bd723e44bc0667fb",
              "IPY_MODEL_0d5891d1a4d24a57883fc58adcb00c73"
            ]
          }
        },
        "076c7b9bf2974384ac8291215de9f0e8": {
          "model_module": "@jupyter-widgets/base",
          "model_name": "LayoutModel",
          "state": {
            "_view_name": "LayoutView",
            "grid_template_rows": null,
            "right": null,
            "justify_content": null,
            "_view_module": "@jupyter-widgets/base",
            "overflow": null,
            "_model_module_version": "1.2.0",
            "_view_count": null,
            "flex_flow": null,
            "width": null,
            "min_width": null,
            "border": null,
            "align_items": null,
            "bottom": null,
            "_model_module": "@jupyter-widgets/base",
            "top": null,
            "grid_column": null,
            "overflow_y": null,
            "overflow_x": null,
            "grid_auto_flow": null,
            "grid_area": null,
            "grid_template_columns": null,
            "flex": null,
            "_model_name": "LayoutModel",
            "justify_items": null,
            "grid_row": null,
            "max_height": null,
            "align_content": null,
            "visibility": null,
            "align_self": null,
            "height": null,
            "min_height": null,
            "padding": null,
            "grid_auto_rows": null,
            "grid_gap": null,
            "max_width": null,
            "order": null,
            "_view_module_version": "1.2.0",
            "grid_template_areas": null,
            "object_position": null,
            "object_fit": null,
            "grid_auto_columns": null,
            "margin": null,
            "display": null,
            "left": null
          }
        },
        "280fd32c55254a37bd723e44bc0667fb": {
          "model_module": "@jupyter-widgets/controls",
          "model_name": "FloatProgressModel",
          "state": {
            "_view_name": "ProgressView",
            "style": "IPY_MODEL_35f959c413064ffabb419f21d0dcbcc6",
            "_dom_classes": [],
            "description": "100%",
            "_model_name": "FloatProgressModel",
            "bar_style": "success",
            "max": 500,
            "_view_module": "@jupyter-widgets/controls",
            "_model_module_version": "1.5.0",
            "value": 500,
            "_view_count": null,
            "_view_module_version": "1.5.0",
            "orientation": "horizontal",
            "min": 0,
            "description_tooltip": null,
            "_model_module": "@jupyter-widgets/controls",
            "layout": "IPY_MODEL_063f5d8b1c454a7c9598758aa4e21e43"
          }
        },
        "0d5891d1a4d24a57883fc58adcb00c73": {
          "model_module": "@jupyter-widgets/controls",
          "model_name": "HTMLModel",
          "state": {
            "_view_name": "HTMLView",
            "style": "IPY_MODEL_bf14507efbd44420943b8cde6f3feb05",
            "_dom_classes": [],
            "description": "",
            "_model_name": "HTMLModel",
            "placeholder": "​",
            "_view_module": "@jupyter-widgets/controls",
            "_model_module_version": "1.5.0",
            "value": " 500/500 [02:20&lt;00:00,  3.57it/s]",
            "_view_count": null,
            "_view_module_version": "1.5.0",
            "description_tooltip": null,
            "_model_module": "@jupyter-widgets/controls",
            "layout": "IPY_MODEL_2ae60546c9234d919baaba4cc280c78c"
          }
        },
        "35f959c413064ffabb419f21d0dcbcc6": {
          "model_module": "@jupyter-widgets/controls",
          "model_name": "ProgressStyleModel",
          "state": {
            "_view_name": "StyleView",
            "_model_name": "ProgressStyleModel",
            "description_width": "initial",
            "_view_module": "@jupyter-widgets/base",
            "_model_module_version": "1.5.0",
            "_view_count": null,
            "_view_module_version": "1.2.0",
            "bar_color": null,
            "_model_module": "@jupyter-widgets/controls"
          }
        },
        "063f5d8b1c454a7c9598758aa4e21e43": {
          "model_module": "@jupyter-widgets/base",
          "model_name": "LayoutModel",
          "state": {
            "_view_name": "LayoutView",
            "grid_template_rows": null,
            "right": null,
            "justify_content": null,
            "_view_module": "@jupyter-widgets/base",
            "overflow": null,
            "_model_module_version": "1.2.0",
            "_view_count": null,
            "flex_flow": null,
            "width": null,
            "min_width": null,
            "border": null,
            "align_items": null,
            "bottom": null,
            "_model_module": "@jupyter-widgets/base",
            "top": null,
            "grid_column": null,
            "overflow_y": null,
            "overflow_x": null,
            "grid_auto_flow": null,
            "grid_area": null,
            "grid_template_columns": null,
            "flex": null,
            "_model_name": "LayoutModel",
            "justify_items": null,
            "grid_row": null,
            "max_height": null,
            "align_content": null,
            "visibility": null,
            "align_self": null,
            "height": null,
            "min_height": null,
            "padding": null,
            "grid_auto_rows": null,
            "grid_gap": null,
            "max_width": null,
            "order": null,
            "_view_module_version": "1.2.0",
            "grid_template_areas": null,
            "object_position": null,
            "object_fit": null,
            "grid_auto_columns": null,
            "margin": null,
            "display": null,
            "left": null
          }
        },
        "bf14507efbd44420943b8cde6f3feb05": {
          "model_module": "@jupyter-widgets/controls",
          "model_name": "DescriptionStyleModel",
          "state": {
            "_view_name": "StyleView",
            "_model_name": "DescriptionStyleModel",
            "description_width": "",
            "_view_module": "@jupyter-widgets/base",
            "_model_module_version": "1.5.0",
            "_view_count": null,
            "_view_module_version": "1.2.0",
            "_model_module": "@jupyter-widgets/controls"
          }
        },
        "2ae60546c9234d919baaba4cc280c78c": {
          "model_module": "@jupyter-widgets/base",
          "model_name": "LayoutModel",
          "state": {
            "_view_name": "LayoutView",
            "grid_template_rows": null,
            "right": null,
            "justify_content": null,
            "_view_module": "@jupyter-widgets/base",
            "overflow": null,
            "_model_module_version": "1.2.0",
            "_view_count": null,
            "flex_flow": null,
            "width": null,
            "min_width": null,
            "border": null,
            "align_items": null,
            "bottom": null,
            "_model_module": "@jupyter-widgets/base",
            "top": null,
            "grid_column": null,
            "overflow_y": null,
            "overflow_x": null,
            "grid_auto_flow": null,
            "grid_area": null,
            "grid_template_columns": null,
            "flex": null,
            "_model_name": "LayoutModel",
            "justify_items": null,
            "grid_row": null,
            "max_height": null,
            "align_content": null,
            "visibility": null,
            "align_self": null,
            "height": null,
            "min_height": null,
            "padding": null,
            "grid_auto_rows": null,
            "grid_gap": null,
            "max_width": null,
            "order": null,
            "_view_module_version": "1.2.0",
            "grid_template_areas": null,
            "object_position": null,
            "object_fit": null,
            "grid_auto_columns": null,
            "margin": null,
            "display": null,
            "left": null
          }
        },
        "26187ec0c8c54648a706c07ab58b7d9b": {
          "model_module": "@jupyter-widgets/controls",
          "model_name": "HBoxModel",
          "state": {
            "_view_name": "HBoxView",
            "_dom_classes": [],
            "_model_name": "HBoxModel",
            "_view_module": "@jupyter-widgets/controls",
            "_model_module_version": "1.5.0",
            "_view_count": null,
            "_view_module_version": "1.5.0",
            "box_style": "",
            "layout": "IPY_MODEL_a3804982b9c245538c4a2f724a965cca",
            "_model_module": "@jupyter-widgets/controls",
            "children": [
              "IPY_MODEL_57421a43f5cc4de3ae3b554e5a3f124a",
              "IPY_MODEL_740ecb011af54b5391292b426d052fd2"
            ]
          }
        },
        "a3804982b9c245538c4a2f724a965cca": {
          "model_module": "@jupyter-widgets/base",
          "model_name": "LayoutModel",
          "state": {
            "_view_name": "LayoutView",
            "grid_template_rows": null,
            "right": null,
            "justify_content": null,
            "_view_module": "@jupyter-widgets/base",
            "overflow": null,
            "_model_module_version": "1.2.0",
            "_view_count": null,
            "flex_flow": null,
            "width": null,
            "min_width": null,
            "border": null,
            "align_items": null,
            "bottom": null,
            "_model_module": "@jupyter-widgets/base",
            "top": null,
            "grid_column": null,
            "overflow_y": null,
            "overflow_x": null,
            "grid_auto_flow": null,
            "grid_area": null,
            "grid_template_columns": null,
            "flex": null,
            "_model_name": "LayoutModel",
            "justify_items": null,
            "grid_row": null,
            "max_height": null,
            "align_content": null,
            "visibility": null,
            "align_self": null,
            "height": null,
            "min_height": null,
            "padding": null,
            "grid_auto_rows": null,
            "grid_gap": null,
            "max_width": null,
            "order": null,
            "_view_module_version": "1.2.0",
            "grid_template_areas": null,
            "object_position": null,
            "object_fit": null,
            "grid_auto_columns": null,
            "margin": null,
            "display": null,
            "left": null
          }
        },
        "57421a43f5cc4de3ae3b554e5a3f124a": {
          "model_module": "@jupyter-widgets/controls",
          "model_name": "FloatProgressModel",
          "state": {
            "_view_name": "ProgressView",
            "style": "IPY_MODEL_6cc81cc49b404955a40bfb298b337522",
            "_dom_classes": [],
            "description": "100%",
            "_model_name": "FloatProgressModel",
            "bar_style": "success",
            "max": 500,
            "_view_module": "@jupyter-widgets/controls",
            "_model_module_version": "1.5.0",
            "value": 500,
            "_view_count": null,
            "_view_module_version": "1.5.0",
            "orientation": "horizontal",
            "min": 0,
            "description_tooltip": null,
            "_model_module": "@jupyter-widgets/controls",
            "layout": "IPY_MODEL_93cc8c908f0744ef9b6d53cd0017fba0"
          }
        },
        "740ecb011af54b5391292b426d052fd2": {
          "model_module": "@jupyter-widgets/controls",
          "model_name": "HTMLModel",
          "state": {
            "_view_name": "HTMLView",
            "style": "IPY_MODEL_de6a8e53622c47fabee0b96a016c7ef1",
            "_dom_classes": [],
            "description": "",
            "_model_name": "HTMLModel",
            "placeholder": "​",
            "_view_module": "@jupyter-widgets/controls",
            "_model_module_version": "1.5.0",
            "value": " 500/500 [05:44&lt;00:00,  1.45it/s]",
            "_view_count": null,
            "_view_module_version": "1.5.0",
            "description_tooltip": null,
            "_model_module": "@jupyter-widgets/controls",
            "layout": "IPY_MODEL_4e8484a66c994b0db7c64840f275fa8a"
          }
        },
        "6cc81cc49b404955a40bfb298b337522": {
          "model_module": "@jupyter-widgets/controls",
          "model_name": "ProgressStyleModel",
          "state": {
            "_view_name": "StyleView",
            "_model_name": "ProgressStyleModel",
            "description_width": "initial",
            "_view_module": "@jupyter-widgets/base",
            "_model_module_version": "1.5.0",
            "_view_count": null,
            "_view_module_version": "1.2.0",
            "bar_color": null,
            "_model_module": "@jupyter-widgets/controls"
          }
        },
        "93cc8c908f0744ef9b6d53cd0017fba0": {
          "model_module": "@jupyter-widgets/base",
          "model_name": "LayoutModel",
          "state": {
            "_view_name": "LayoutView",
            "grid_template_rows": null,
            "right": null,
            "justify_content": null,
            "_view_module": "@jupyter-widgets/base",
            "overflow": null,
            "_model_module_version": "1.2.0",
            "_view_count": null,
            "flex_flow": null,
            "width": null,
            "min_width": null,
            "border": null,
            "align_items": null,
            "bottom": null,
            "_model_module": "@jupyter-widgets/base",
            "top": null,
            "grid_column": null,
            "overflow_y": null,
            "overflow_x": null,
            "grid_auto_flow": null,
            "grid_area": null,
            "grid_template_columns": null,
            "flex": null,
            "_model_name": "LayoutModel",
            "justify_items": null,
            "grid_row": null,
            "max_height": null,
            "align_content": null,
            "visibility": null,
            "align_self": null,
            "height": null,
            "min_height": null,
            "padding": null,
            "grid_auto_rows": null,
            "grid_gap": null,
            "max_width": null,
            "order": null,
            "_view_module_version": "1.2.0",
            "grid_template_areas": null,
            "object_position": null,
            "object_fit": null,
            "grid_auto_columns": null,
            "margin": null,
            "display": null,
            "left": null
          }
        },
        "de6a8e53622c47fabee0b96a016c7ef1": {
          "model_module": "@jupyter-widgets/controls",
          "model_name": "DescriptionStyleModel",
          "state": {
            "_view_name": "StyleView",
            "_model_name": "DescriptionStyleModel",
            "description_width": "",
            "_view_module": "@jupyter-widgets/base",
            "_model_module_version": "1.5.0",
            "_view_count": null,
            "_view_module_version": "1.2.0",
            "_model_module": "@jupyter-widgets/controls"
          }
        },
        "4e8484a66c994b0db7c64840f275fa8a": {
          "model_module": "@jupyter-widgets/base",
          "model_name": "LayoutModel",
          "state": {
            "_view_name": "LayoutView",
            "grid_template_rows": null,
            "right": null,
            "justify_content": null,
            "_view_module": "@jupyter-widgets/base",
            "overflow": null,
            "_model_module_version": "1.2.0",
            "_view_count": null,
            "flex_flow": null,
            "width": null,
            "min_width": null,
            "border": null,
            "align_items": null,
            "bottom": null,
            "_model_module": "@jupyter-widgets/base",
            "top": null,
            "grid_column": null,
            "overflow_y": null,
            "overflow_x": null,
            "grid_auto_flow": null,
            "grid_area": null,
            "grid_template_columns": null,
            "flex": null,
            "_model_name": "LayoutModel",
            "justify_items": null,
            "grid_row": null,
            "max_height": null,
            "align_content": null,
            "visibility": null,
            "align_self": null,
            "height": null,
            "min_height": null,
            "padding": null,
            "grid_auto_rows": null,
            "grid_gap": null,
            "max_width": null,
            "order": null,
            "_view_module_version": "1.2.0",
            "grid_template_areas": null,
            "object_position": null,
            "object_fit": null,
            "grid_auto_columns": null,
            "margin": null,
            "display": null,
            "left": null
          }
        }
      }
    }
  },
  "cells": [
    {
      "cell_type": "markdown",
      "metadata": {
        "id": "B6rNtPIpsEv0"
      },
      "source": [
        "# Sentiment Analysis on Customer Reviews\n",
        "Project mentor: Zach Wood-Doughty\n",
        "\n",
        "Simon Liu <sliu125@jh.edu>, Shaunak Shah <sshah98@jh.edu>, Phillip Teng <fteng3@jh.edu>, Stephanie Zhang <szhang90@jh.edu>\n"
      ]
    },
    {
      "cell_type": "code",
      "metadata": {
        "colab": {
          "base_uri": "https://localhost:8080/"
        },
        "id": "rXDasBHfreCK",
        "outputId": "ee09fcf5-df1e-4a96-f98e-8f364711e8a6"
      },
      "source": [
        "!curl -O https://archive.ics.uci.edu/ml/machine-learning-databases/00331/sentiment%20labelled%20sentences.zip\n",
        "!unzip -o sentiment%20labelled%20sentences.zip\n",
        "!pip install contractions"
      ],
      "execution_count": 1,
      "outputs": [
        {
          "output_type": "stream",
          "text": [
            "  % Total    % Received % Xferd  Average Speed   Time    Time     Time  Current\n",
            "                                 Dload  Upload   Total   Spent    Left  Speed\n",
            "100 84188  100 84188    0     0   181k      0 --:--:-- --:--:-- --:--:--  181k\n",
            "Archive:  sentiment%20labelled%20sentences.zip\n",
            "  inflating: sentiment labelled sentences/.DS_Store  \n",
            "  inflating: __MACOSX/sentiment labelled sentences/._.DS_Store  \n",
            "  inflating: sentiment labelled sentences/amazon_cells_labelled.txt  \n",
            "  inflating: sentiment labelled sentences/imdb_labelled.txt  \n",
            "  inflating: __MACOSX/sentiment labelled sentences/._imdb_labelled.txt  \n",
            "  inflating: sentiment labelled sentences/readme.txt  \n",
            "  inflating: __MACOSX/sentiment labelled sentences/._readme.txt  \n",
            "  inflating: sentiment labelled sentences/yelp_labelled.txt  \n",
            "  inflating: __MACOSX/._sentiment labelled sentences  \n",
            "Requirement already satisfied: contractions in /usr/local/lib/python3.6/dist-packages (0.0.43)\n",
            "Requirement already satisfied: textsearch in /usr/local/lib/python3.6/dist-packages (from contractions) (0.0.17)\n",
            "Requirement already satisfied: Unidecode in /usr/local/lib/python3.6/dist-packages (from textsearch->contractions) (1.1.1)\n",
            "Requirement already satisfied: pyahocorasick in /usr/local/lib/python3.6/dist-packages (from textsearch->contractions) (1.4.0)\n"
          ],
          "name": "stdout"
        }
      ]
    },
    {
      "cell_type": "code",
      "metadata": {
        "id": "XiICyXReueID"
      },
      "source": [
        "import pandas as pd\n",
        "import numpy as np\n",
        "import sklearn\n",
        "import os"
      ],
      "execution_count": 2,
      "outputs": []
    },
    {
      "cell_type": "code",
      "metadata": {
        "colab": {
          "base_uri": "https://localhost:8080/"
        },
        "id": "X2Syjljclay2",
        "outputId": "f1182aa3-c4eb-4936-b668-ab60107dd14e"
      },
      "source": [
        "# data import\n",
        "root = os.getcwd()\n",
        "files = {\"amazon\": os.path.join(root, \"sentiment labelled sentences/amazon_cells_labelled.txt\"),\n",
        "         \"imdb\": os.path.join(root, \"sentiment labelled sentences/imdb_labelled.txt\"),\n",
        "         \"yelp\": os.path.join(root, \"sentiment labelled sentences/yelp_labelled.txt\")}\n",
        "\n",
        "X = {'all':[]}\n",
        "y = {'all':[]}\n",
        "for provider in files:\n",
        "  with open(files[provider]) as f:\n",
        "    content = f.readlines()\n",
        "  X[provider] = []\n",
        "  y[provider] = []\n",
        "  i = 0\n",
        "  for line in content:\n",
        "    line = line.strip()\n",
        "    if (i < 1):\n",
        "      print(line)\n",
        "      i=i+1\n",
        "    feat = line[:-1].strip()\n",
        "    label = int(line[-1])\n",
        "    X[provider].append(feat)\n",
        "    X['all'].append(feat)\n",
        "    y[provider].append(label)\n",
        "    y['all'].append(label)\n"
      ],
      "execution_count": 3,
      "outputs": [
        {
          "output_type": "stream",
          "text": [
            "So there is no way for me to plug it in here in the US unless I go by a converter.\t0\n",
            "A very, very, very slow-moving, aimless movie about a distressed, drifting young man.  \t0\n",
            "Wow... Loved this place.\t1\n"
          ],
          "name": "stdout"
        }
      ]
    },
    {
      "cell_type": "markdown",
      "metadata": {
        "id": "PAFyfOPuSDxD"
      },
      "source": [
        "# Baselines \n"
      ]
    },
    {
      "cell_type": "code",
      "metadata": {
        "id": "8pY9jFTV0OXx"
      },
      "source": [
        "# split into test and train\n",
        "from sklearn.model_selection import train_test_split\n",
        "import random \n",
        "# X_train, X_test, y_train, y_test = train_test_split(X['all'], y['all'], test_size=0.2, random_state=3)\n",
        "def split(X, y):\n",
        "  rand_state = 69\n",
        "\n",
        "  # split into test and train\n",
        "  # X_train, X_test, y_train, y_test = train_test_split(X['all'], y['all'], test_size=0.2, random_state=rand_state)\n",
        "  X_train_amaz, X_test_amaz, y_train_amaz, y_test_amaz = train_test_split(X['amazon'], y['amazon'], \n",
        "                                                                          test_size=0.2, stratify=y['amazon'], random_state=rand_state)\n",
        "  X_train_imdb, X_test_imdb, y_train_imdb, y_test_imdb = train_test_split(X['imdb'], y['imdb'], \n",
        "                                                                          test_size=0.2, stratify=y['imdb'], random_state=rand_state)\n",
        "  X_train_yelp, X_test_yelp, y_train_yelp, y_test_yelp = train_test_split(X['yelp'], y['yelp'], \n",
        "                                                                          test_size=0.2, stratify=y['yelp'], random_state=rand_state)\n",
        "\n",
        "  # split into test and validation\n",
        "  # X_valid, X_test, y_valid, y_test = train_test_split(X_test, y_test, test_size=0.5, random_state=rand_state)\n",
        "  X_valid_amaz, X_test_amaz, y_valid_amaz, y_test_amaz = train_test_split(X_test_amaz, y_test_amaz, test_size=0.5, \n",
        "                                                                          stratify=y_test_amaz, random_state=rand_state)\n",
        "  X_valid_imdb, X_test_imdb, y_valid_imdb, y_test_imdb = train_test_split(X_test_imdb, y_test_imdb, test_size=0.5, \n",
        "                                                                          stratify=y_test_imdb,random_state=rand_state)\n",
        "  X_valid_yelp, X_test_yelp, y_valid_yelp, y_test_yelp = train_test_split(X_test_yelp, y_test_yelp, test_size=0.5, \n",
        "                                                                          stratify=y_test_yelp, random_state=rand_state)\n",
        "\n",
        "  X_train = X_train_amaz + X_train_imdb + X_train_yelp\n",
        "  X_valid = X_valid_amaz + X_valid_imdb + X_valid_yelp\n",
        "  X_test = X_test_amaz + X_test_imdb + X_test_yelp\n",
        "  y_train = y_train_amaz + y_train_imdb + y_train_yelp\n",
        "  y_valid = y_valid_amaz + y_valid_imdb + y_valid_yelp\n",
        "  y_test = y_test_amaz + y_test_imdb + y_test_yelp\n",
        "\n",
        "  train = list(zip(X_train, y_train))\n",
        "  valid = list(zip(X_valid, y_valid))\n",
        "  test = list(zip(X_test, y_test))\n",
        "\n",
        "  random.shuffle(train)\n",
        "  random.shuffle(valid)\n",
        "  random.shuffle(test)\n",
        "\n",
        "  X_train, y_train = zip(*train)\n",
        "  X_valid, y_valid = zip(*valid)\n",
        "  X_test, y_test = zip(*test)\n",
        "  return X_train, y_train, X_valid, y_valid, X_test, y_test, X_train_amaz, y_train_amaz, X_train_imdb, y_train_imdb, X_train_yelp, y_train_yelp"
      ],
      "execution_count": 4,
      "outputs": []
    },
    {
      "cell_type": "code",
      "metadata": {
        "id": "LU1fIvN1PF8p"
      },
      "source": [
        "rand_state = 69\n",
        "\n",
        "# split into test and train\n",
        "from sklearn.model_selection import train_test_split\n",
        "X_train, X_test, y_train, y_test = train_test_split(X['all'], y['all'], test_size=0.2, random_state=rand_state)\n",
        "X_train_amaz, X_test_amaz, y_train_amaz, y_test_amaz = train_test_split(X['amazon'], y['amazon'], \n",
        "                                                                        test_size=0.2, stratify=y['amazon'], random_state=rand_state)\n",
        "X_train_imdb, X_test_imdb, y_train_imdb, y_test_imdb = train_test_split(X['imdb'], y['imdb'], \n",
        "                                                                        test_size=0.2, stratify=y['imdb'], random_state=rand_state)\n",
        "X_train_yelp, X_test_yelp, y_train_yelp, y_test_yelp = train_test_split(X['yelp'], y['yelp'], \n",
        "                                                                        test_size=0.2, stratify=y['yelp'], random_state=rand_state)\n",
        "\n",
        "# split into test and validation\n",
        "X_valid, X_test, y_valid, y_test = train_test_split(X_test, y_test, test_size=0.5, stratify = y_test, random_state=rand_state)\n",
        "X_valid_amaz, X_test_amaz, y_valid_amaz, y_test_amaz = train_test_split(X_test_amaz, y_test_amaz, test_size=0.5, stratify=y_test_amaz, random_state=rand_state)\n",
        "X_valid_imdb, X_test_imdb, y_valid_imdb, y_test_imdb = train_test_split(X_test_imdb, y_test_imdb, test_size=0.5, stratify=y_test_imdb, random_state=rand_state)\n",
        "X_valid_yelp, X_test_yelp, y_valid_yelp, y_test_yelp = train_test_split(X_test_yelp, y_test_yelp, test_size=0.5, stratify=y_test_yelp, random_state=rand_state)\n",
        "\n",
        "#X_train, y_train, X_valid, y_valid, X_test, y_test, X_train_amaz, y_train_amaz, X_train_imdb, y_train_imdb, X_train_yelp, y_train_yelp = split(X, y)"
      ],
      "execution_count": 5,
      "outputs": []
    },
    {
      "cell_type": "code",
      "metadata": {
        "colab": {
          "base_uri": "https://localhost:8080/",
          "height": 439
        },
        "id": "i2zpH7ZPuWfG",
        "outputId": "e787bb9b-6a2e-41c1-8d7f-66b5dc5b58a1"
      },
      "source": [
        "# feature extraction\n",
        "from sklearn.feature_extraction.text import CountVectorizer\n",
        "\n",
        "def bag_of_words(Xtrain, Xvalid, Xtest):\n",
        "  vectorizer = CountVectorizer(stop_words='english')\n",
        "  x_train_features = vectorizer.fit_transform(Xtrain)\n",
        "  x_valid_features = vectorizer.transform(Xvalid)\n",
        "  x_test_features = vectorizer.transform(Xtest)  \n",
        "  x_train_features = pd.DataFrame(x_train_features.todense())\n",
        "  x_valid_features = pd.DataFrame(x_valid_features.todense())\n",
        "  x_test_features = pd.DataFrame(x_test_features.todense())\n",
        "  return (x_train_features, x_valid_features, x_test_features)\n",
        "\n",
        "x_train_features, x_valid_features, x_test_features = bag_of_words(X_train, X_valid, X_test)\n",
        "x_train_features"
      ],
      "execution_count": 6,
      "outputs": [
        {
          "output_type": "execute_result",
          "data": {
            "text/html": [
              "<div>\n",
              "<style scoped>\n",
              "    .dataframe tbody tr th:only-of-type {\n",
              "        vertical-align: middle;\n",
              "    }\n",
              "\n",
              "    .dataframe tbody tr th {\n",
              "        vertical-align: top;\n",
              "    }\n",
              "\n",
              "    .dataframe thead th {\n",
              "        text-align: right;\n",
              "    }\n",
              "</style>\n",
              "<table border=\"1\" class=\"dataframe\">\n",
              "  <thead>\n",
              "    <tr style=\"text-align: right;\">\n",
              "      <th></th>\n",
              "      <th>0</th>\n",
              "      <th>1</th>\n",
              "      <th>2</th>\n",
              "      <th>3</th>\n",
              "      <th>4</th>\n",
              "      <th>5</th>\n",
              "      <th>6</th>\n",
              "      <th>7</th>\n",
              "      <th>8</th>\n",
              "      <th>9</th>\n",
              "      <th>10</th>\n",
              "      <th>11</th>\n",
              "      <th>12</th>\n",
              "      <th>13</th>\n",
              "      <th>14</th>\n",
              "      <th>15</th>\n",
              "      <th>16</th>\n",
              "      <th>17</th>\n",
              "      <th>18</th>\n",
              "      <th>19</th>\n",
              "      <th>20</th>\n",
              "      <th>21</th>\n",
              "      <th>22</th>\n",
              "      <th>23</th>\n",
              "      <th>24</th>\n",
              "      <th>25</th>\n",
              "      <th>26</th>\n",
              "      <th>27</th>\n",
              "      <th>28</th>\n",
              "      <th>29</th>\n",
              "      <th>30</th>\n",
              "      <th>31</th>\n",
              "      <th>32</th>\n",
              "      <th>33</th>\n",
              "      <th>34</th>\n",
              "      <th>35</th>\n",
              "      <th>36</th>\n",
              "      <th>37</th>\n",
              "      <th>38</th>\n",
              "      <th>39</th>\n",
              "      <th>...</th>\n",
              "      <th>4233</th>\n",
              "      <th>4234</th>\n",
              "      <th>4235</th>\n",
              "      <th>4236</th>\n",
              "      <th>4237</th>\n",
              "      <th>4238</th>\n",
              "      <th>4239</th>\n",
              "      <th>4240</th>\n",
              "      <th>4241</th>\n",
              "      <th>4242</th>\n",
              "      <th>4243</th>\n",
              "      <th>4244</th>\n",
              "      <th>4245</th>\n",
              "      <th>4246</th>\n",
              "      <th>4247</th>\n",
              "      <th>4248</th>\n",
              "      <th>4249</th>\n",
              "      <th>4250</th>\n",
              "      <th>4251</th>\n",
              "      <th>4252</th>\n",
              "      <th>4253</th>\n",
              "      <th>4254</th>\n",
              "      <th>4255</th>\n",
              "      <th>4256</th>\n",
              "      <th>4257</th>\n",
              "      <th>4258</th>\n",
              "      <th>4259</th>\n",
              "      <th>4260</th>\n",
              "      <th>4261</th>\n",
              "      <th>4262</th>\n",
              "      <th>4263</th>\n",
              "      <th>4264</th>\n",
              "      <th>4265</th>\n",
              "      <th>4266</th>\n",
              "      <th>4267</th>\n",
              "      <th>4268</th>\n",
              "      <th>4269</th>\n",
              "      <th>4270</th>\n",
              "      <th>4271</th>\n",
              "      <th>4272</th>\n",
              "    </tr>\n",
              "  </thead>\n",
              "  <tbody>\n",
              "    <tr>\n",
              "      <th>0</th>\n",
              "      <td>0</td>\n",
              "      <td>0</td>\n",
              "      <td>0</td>\n",
              "      <td>0</td>\n",
              "      <td>0</td>\n",
              "      <td>0</td>\n",
              "      <td>0</td>\n",
              "      <td>0</td>\n",
              "      <td>0</td>\n",
              "      <td>0</td>\n",
              "      <td>0</td>\n",
              "      <td>0</td>\n",
              "      <td>0</td>\n",
              "      <td>0</td>\n",
              "      <td>0</td>\n",
              "      <td>0</td>\n",
              "      <td>0</td>\n",
              "      <td>0</td>\n",
              "      <td>0</td>\n",
              "      <td>0</td>\n",
              "      <td>0</td>\n",
              "      <td>0</td>\n",
              "      <td>0</td>\n",
              "      <td>0</td>\n",
              "      <td>0</td>\n",
              "      <td>0</td>\n",
              "      <td>0</td>\n",
              "      <td>0</td>\n",
              "      <td>0</td>\n",
              "      <td>0</td>\n",
              "      <td>0</td>\n",
              "      <td>0</td>\n",
              "      <td>0</td>\n",
              "      <td>0</td>\n",
              "      <td>0</td>\n",
              "      <td>0</td>\n",
              "      <td>0</td>\n",
              "      <td>0</td>\n",
              "      <td>0</td>\n",
              "      <td>0</td>\n",
              "      <td>...</td>\n",
              "      <td>0</td>\n",
              "      <td>0</td>\n",
              "      <td>0</td>\n",
              "      <td>0</td>\n",
              "      <td>0</td>\n",
              "      <td>0</td>\n",
              "      <td>0</td>\n",
              "      <td>0</td>\n",
              "      <td>0</td>\n",
              "      <td>0</td>\n",
              "      <td>0</td>\n",
              "      <td>0</td>\n",
              "      <td>0</td>\n",
              "      <td>0</td>\n",
              "      <td>0</td>\n",
              "      <td>0</td>\n",
              "      <td>0</td>\n",
              "      <td>0</td>\n",
              "      <td>0</td>\n",
              "      <td>0</td>\n",
              "      <td>0</td>\n",
              "      <td>0</td>\n",
              "      <td>0</td>\n",
              "      <td>0</td>\n",
              "      <td>0</td>\n",
              "      <td>0</td>\n",
              "      <td>0</td>\n",
              "      <td>0</td>\n",
              "      <td>0</td>\n",
              "      <td>0</td>\n",
              "      <td>0</td>\n",
              "      <td>0</td>\n",
              "      <td>0</td>\n",
              "      <td>0</td>\n",
              "      <td>0</td>\n",
              "      <td>0</td>\n",
              "      <td>0</td>\n",
              "      <td>0</td>\n",
              "      <td>0</td>\n",
              "      <td>0</td>\n",
              "    </tr>\n",
              "    <tr>\n",
              "      <th>1</th>\n",
              "      <td>0</td>\n",
              "      <td>0</td>\n",
              "      <td>0</td>\n",
              "      <td>0</td>\n",
              "      <td>0</td>\n",
              "      <td>0</td>\n",
              "      <td>0</td>\n",
              "      <td>0</td>\n",
              "      <td>0</td>\n",
              "      <td>0</td>\n",
              "      <td>0</td>\n",
              "      <td>0</td>\n",
              "      <td>0</td>\n",
              "      <td>0</td>\n",
              "      <td>0</td>\n",
              "      <td>0</td>\n",
              "      <td>0</td>\n",
              "      <td>0</td>\n",
              "      <td>0</td>\n",
              "      <td>0</td>\n",
              "      <td>0</td>\n",
              "      <td>0</td>\n",
              "      <td>0</td>\n",
              "      <td>0</td>\n",
              "      <td>0</td>\n",
              "      <td>0</td>\n",
              "      <td>0</td>\n",
              "      <td>0</td>\n",
              "      <td>0</td>\n",
              "      <td>0</td>\n",
              "      <td>0</td>\n",
              "      <td>0</td>\n",
              "      <td>0</td>\n",
              "      <td>0</td>\n",
              "      <td>0</td>\n",
              "      <td>0</td>\n",
              "      <td>0</td>\n",
              "      <td>0</td>\n",
              "      <td>0</td>\n",
              "      <td>0</td>\n",
              "      <td>...</td>\n",
              "      <td>0</td>\n",
              "      <td>0</td>\n",
              "      <td>0</td>\n",
              "      <td>0</td>\n",
              "      <td>0</td>\n",
              "      <td>0</td>\n",
              "      <td>0</td>\n",
              "      <td>0</td>\n",
              "      <td>0</td>\n",
              "      <td>0</td>\n",
              "      <td>0</td>\n",
              "      <td>0</td>\n",
              "      <td>0</td>\n",
              "      <td>0</td>\n",
              "      <td>0</td>\n",
              "      <td>0</td>\n",
              "      <td>0</td>\n",
              "      <td>0</td>\n",
              "      <td>0</td>\n",
              "      <td>0</td>\n",
              "      <td>0</td>\n",
              "      <td>0</td>\n",
              "      <td>0</td>\n",
              "      <td>0</td>\n",
              "      <td>0</td>\n",
              "      <td>0</td>\n",
              "      <td>0</td>\n",
              "      <td>0</td>\n",
              "      <td>0</td>\n",
              "      <td>0</td>\n",
              "      <td>0</td>\n",
              "      <td>0</td>\n",
              "      <td>0</td>\n",
              "      <td>0</td>\n",
              "      <td>0</td>\n",
              "      <td>0</td>\n",
              "      <td>0</td>\n",
              "      <td>0</td>\n",
              "      <td>0</td>\n",
              "      <td>0</td>\n",
              "    </tr>\n",
              "    <tr>\n",
              "      <th>2</th>\n",
              "      <td>0</td>\n",
              "      <td>0</td>\n",
              "      <td>0</td>\n",
              "      <td>0</td>\n",
              "      <td>0</td>\n",
              "      <td>0</td>\n",
              "      <td>0</td>\n",
              "      <td>0</td>\n",
              "      <td>0</td>\n",
              "      <td>0</td>\n",
              "      <td>0</td>\n",
              "      <td>0</td>\n",
              "      <td>0</td>\n",
              "      <td>0</td>\n",
              "      <td>0</td>\n",
              "      <td>0</td>\n",
              "      <td>0</td>\n",
              "      <td>0</td>\n",
              "      <td>0</td>\n",
              "      <td>0</td>\n",
              "      <td>0</td>\n",
              "      <td>0</td>\n",
              "      <td>0</td>\n",
              "      <td>0</td>\n",
              "      <td>0</td>\n",
              "      <td>0</td>\n",
              "      <td>0</td>\n",
              "      <td>0</td>\n",
              "      <td>0</td>\n",
              "      <td>0</td>\n",
              "      <td>0</td>\n",
              "      <td>0</td>\n",
              "      <td>0</td>\n",
              "      <td>0</td>\n",
              "      <td>0</td>\n",
              "      <td>0</td>\n",
              "      <td>0</td>\n",
              "      <td>0</td>\n",
              "      <td>0</td>\n",
              "      <td>0</td>\n",
              "      <td>...</td>\n",
              "      <td>0</td>\n",
              "      <td>0</td>\n",
              "      <td>0</td>\n",
              "      <td>0</td>\n",
              "      <td>0</td>\n",
              "      <td>0</td>\n",
              "      <td>0</td>\n",
              "      <td>0</td>\n",
              "      <td>0</td>\n",
              "      <td>0</td>\n",
              "      <td>0</td>\n",
              "      <td>0</td>\n",
              "      <td>0</td>\n",
              "      <td>0</td>\n",
              "      <td>0</td>\n",
              "      <td>0</td>\n",
              "      <td>0</td>\n",
              "      <td>0</td>\n",
              "      <td>0</td>\n",
              "      <td>0</td>\n",
              "      <td>0</td>\n",
              "      <td>0</td>\n",
              "      <td>0</td>\n",
              "      <td>0</td>\n",
              "      <td>0</td>\n",
              "      <td>0</td>\n",
              "      <td>0</td>\n",
              "      <td>0</td>\n",
              "      <td>0</td>\n",
              "      <td>0</td>\n",
              "      <td>0</td>\n",
              "      <td>0</td>\n",
              "      <td>0</td>\n",
              "      <td>0</td>\n",
              "      <td>0</td>\n",
              "      <td>0</td>\n",
              "      <td>0</td>\n",
              "      <td>0</td>\n",
              "      <td>0</td>\n",
              "      <td>0</td>\n",
              "    </tr>\n",
              "    <tr>\n",
              "      <th>3</th>\n",
              "      <td>0</td>\n",
              "      <td>0</td>\n",
              "      <td>0</td>\n",
              "      <td>0</td>\n",
              "      <td>0</td>\n",
              "      <td>0</td>\n",
              "      <td>0</td>\n",
              "      <td>0</td>\n",
              "      <td>0</td>\n",
              "      <td>0</td>\n",
              "      <td>0</td>\n",
              "      <td>0</td>\n",
              "      <td>0</td>\n",
              "      <td>0</td>\n",
              "      <td>0</td>\n",
              "      <td>0</td>\n",
              "      <td>0</td>\n",
              "      <td>0</td>\n",
              "      <td>0</td>\n",
              "      <td>0</td>\n",
              "      <td>0</td>\n",
              "      <td>0</td>\n",
              "      <td>0</td>\n",
              "      <td>0</td>\n",
              "      <td>0</td>\n",
              "      <td>0</td>\n",
              "      <td>0</td>\n",
              "      <td>0</td>\n",
              "      <td>0</td>\n",
              "      <td>0</td>\n",
              "      <td>0</td>\n",
              "      <td>0</td>\n",
              "      <td>0</td>\n",
              "      <td>0</td>\n",
              "      <td>0</td>\n",
              "      <td>0</td>\n",
              "      <td>0</td>\n",
              "      <td>0</td>\n",
              "      <td>0</td>\n",
              "      <td>0</td>\n",
              "      <td>...</td>\n",
              "      <td>0</td>\n",
              "      <td>0</td>\n",
              "      <td>0</td>\n",
              "      <td>0</td>\n",
              "      <td>0</td>\n",
              "      <td>0</td>\n",
              "      <td>0</td>\n",
              "      <td>0</td>\n",
              "      <td>0</td>\n",
              "      <td>0</td>\n",
              "      <td>0</td>\n",
              "      <td>0</td>\n",
              "      <td>0</td>\n",
              "      <td>0</td>\n",
              "      <td>0</td>\n",
              "      <td>0</td>\n",
              "      <td>0</td>\n",
              "      <td>0</td>\n",
              "      <td>0</td>\n",
              "      <td>0</td>\n",
              "      <td>0</td>\n",
              "      <td>0</td>\n",
              "      <td>0</td>\n",
              "      <td>0</td>\n",
              "      <td>0</td>\n",
              "      <td>0</td>\n",
              "      <td>0</td>\n",
              "      <td>0</td>\n",
              "      <td>0</td>\n",
              "      <td>0</td>\n",
              "      <td>0</td>\n",
              "      <td>0</td>\n",
              "      <td>0</td>\n",
              "      <td>0</td>\n",
              "      <td>0</td>\n",
              "      <td>0</td>\n",
              "      <td>0</td>\n",
              "      <td>0</td>\n",
              "      <td>0</td>\n",
              "      <td>0</td>\n",
              "    </tr>\n",
              "    <tr>\n",
              "      <th>4</th>\n",
              "      <td>0</td>\n",
              "      <td>0</td>\n",
              "      <td>0</td>\n",
              "      <td>0</td>\n",
              "      <td>0</td>\n",
              "      <td>0</td>\n",
              "      <td>0</td>\n",
              "      <td>0</td>\n",
              "      <td>0</td>\n",
              "      <td>0</td>\n",
              "      <td>0</td>\n",
              "      <td>0</td>\n",
              "      <td>0</td>\n",
              "      <td>0</td>\n",
              "      <td>0</td>\n",
              "      <td>0</td>\n",
              "      <td>0</td>\n",
              "      <td>0</td>\n",
              "      <td>0</td>\n",
              "      <td>0</td>\n",
              "      <td>0</td>\n",
              "      <td>0</td>\n",
              "      <td>0</td>\n",
              "      <td>0</td>\n",
              "      <td>0</td>\n",
              "      <td>0</td>\n",
              "      <td>0</td>\n",
              "      <td>0</td>\n",
              "      <td>0</td>\n",
              "      <td>0</td>\n",
              "      <td>0</td>\n",
              "      <td>0</td>\n",
              "      <td>0</td>\n",
              "      <td>0</td>\n",
              "      <td>0</td>\n",
              "      <td>0</td>\n",
              "      <td>0</td>\n",
              "      <td>0</td>\n",
              "      <td>0</td>\n",
              "      <td>0</td>\n",
              "      <td>...</td>\n",
              "      <td>0</td>\n",
              "      <td>0</td>\n",
              "      <td>0</td>\n",
              "      <td>0</td>\n",
              "      <td>0</td>\n",
              "      <td>0</td>\n",
              "      <td>0</td>\n",
              "      <td>0</td>\n",
              "      <td>0</td>\n",
              "      <td>0</td>\n",
              "      <td>0</td>\n",
              "      <td>0</td>\n",
              "      <td>0</td>\n",
              "      <td>0</td>\n",
              "      <td>0</td>\n",
              "      <td>0</td>\n",
              "      <td>0</td>\n",
              "      <td>0</td>\n",
              "      <td>0</td>\n",
              "      <td>0</td>\n",
              "      <td>0</td>\n",
              "      <td>0</td>\n",
              "      <td>0</td>\n",
              "      <td>0</td>\n",
              "      <td>0</td>\n",
              "      <td>0</td>\n",
              "      <td>0</td>\n",
              "      <td>0</td>\n",
              "      <td>0</td>\n",
              "      <td>0</td>\n",
              "      <td>0</td>\n",
              "      <td>0</td>\n",
              "      <td>0</td>\n",
              "      <td>0</td>\n",
              "      <td>0</td>\n",
              "      <td>0</td>\n",
              "      <td>0</td>\n",
              "      <td>0</td>\n",
              "      <td>0</td>\n",
              "      <td>0</td>\n",
              "    </tr>\n",
              "    <tr>\n",
              "      <th>...</th>\n",
              "      <td>...</td>\n",
              "      <td>...</td>\n",
              "      <td>...</td>\n",
              "      <td>...</td>\n",
              "      <td>...</td>\n",
              "      <td>...</td>\n",
              "      <td>...</td>\n",
              "      <td>...</td>\n",
              "      <td>...</td>\n",
              "      <td>...</td>\n",
              "      <td>...</td>\n",
              "      <td>...</td>\n",
              "      <td>...</td>\n",
              "      <td>...</td>\n",
              "      <td>...</td>\n",
              "      <td>...</td>\n",
              "      <td>...</td>\n",
              "      <td>...</td>\n",
              "      <td>...</td>\n",
              "      <td>...</td>\n",
              "      <td>...</td>\n",
              "      <td>...</td>\n",
              "      <td>...</td>\n",
              "      <td>...</td>\n",
              "      <td>...</td>\n",
              "      <td>...</td>\n",
              "      <td>...</td>\n",
              "      <td>...</td>\n",
              "      <td>...</td>\n",
              "      <td>...</td>\n",
              "      <td>...</td>\n",
              "      <td>...</td>\n",
              "      <td>...</td>\n",
              "      <td>...</td>\n",
              "      <td>...</td>\n",
              "      <td>...</td>\n",
              "      <td>...</td>\n",
              "      <td>...</td>\n",
              "      <td>...</td>\n",
              "      <td>...</td>\n",
              "      <td>...</td>\n",
              "      <td>...</td>\n",
              "      <td>...</td>\n",
              "      <td>...</td>\n",
              "      <td>...</td>\n",
              "      <td>...</td>\n",
              "      <td>...</td>\n",
              "      <td>...</td>\n",
              "      <td>...</td>\n",
              "      <td>...</td>\n",
              "      <td>...</td>\n",
              "      <td>...</td>\n",
              "      <td>...</td>\n",
              "      <td>...</td>\n",
              "      <td>...</td>\n",
              "      <td>...</td>\n",
              "      <td>...</td>\n",
              "      <td>...</td>\n",
              "      <td>...</td>\n",
              "      <td>...</td>\n",
              "      <td>...</td>\n",
              "      <td>...</td>\n",
              "      <td>...</td>\n",
              "      <td>...</td>\n",
              "      <td>...</td>\n",
              "      <td>...</td>\n",
              "      <td>...</td>\n",
              "      <td>...</td>\n",
              "      <td>...</td>\n",
              "      <td>...</td>\n",
              "      <td>...</td>\n",
              "      <td>...</td>\n",
              "      <td>...</td>\n",
              "      <td>...</td>\n",
              "      <td>...</td>\n",
              "      <td>...</td>\n",
              "      <td>...</td>\n",
              "      <td>...</td>\n",
              "      <td>...</td>\n",
              "      <td>...</td>\n",
              "      <td>...</td>\n",
              "    </tr>\n",
              "    <tr>\n",
              "      <th>2395</th>\n",
              "      <td>0</td>\n",
              "      <td>0</td>\n",
              "      <td>0</td>\n",
              "      <td>0</td>\n",
              "      <td>0</td>\n",
              "      <td>0</td>\n",
              "      <td>0</td>\n",
              "      <td>0</td>\n",
              "      <td>0</td>\n",
              "      <td>0</td>\n",
              "      <td>0</td>\n",
              "      <td>0</td>\n",
              "      <td>0</td>\n",
              "      <td>0</td>\n",
              "      <td>0</td>\n",
              "      <td>0</td>\n",
              "      <td>0</td>\n",
              "      <td>0</td>\n",
              "      <td>0</td>\n",
              "      <td>0</td>\n",
              "      <td>0</td>\n",
              "      <td>0</td>\n",
              "      <td>0</td>\n",
              "      <td>0</td>\n",
              "      <td>0</td>\n",
              "      <td>0</td>\n",
              "      <td>0</td>\n",
              "      <td>0</td>\n",
              "      <td>0</td>\n",
              "      <td>0</td>\n",
              "      <td>0</td>\n",
              "      <td>0</td>\n",
              "      <td>0</td>\n",
              "      <td>0</td>\n",
              "      <td>0</td>\n",
              "      <td>0</td>\n",
              "      <td>0</td>\n",
              "      <td>0</td>\n",
              "      <td>0</td>\n",
              "      <td>0</td>\n",
              "      <td>...</td>\n",
              "      <td>0</td>\n",
              "      <td>0</td>\n",
              "      <td>0</td>\n",
              "      <td>0</td>\n",
              "      <td>0</td>\n",
              "      <td>0</td>\n",
              "      <td>0</td>\n",
              "      <td>0</td>\n",
              "      <td>0</td>\n",
              "      <td>0</td>\n",
              "      <td>0</td>\n",
              "      <td>0</td>\n",
              "      <td>0</td>\n",
              "      <td>0</td>\n",
              "      <td>0</td>\n",
              "      <td>0</td>\n",
              "      <td>0</td>\n",
              "      <td>0</td>\n",
              "      <td>0</td>\n",
              "      <td>0</td>\n",
              "      <td>0</td>\n",
              "      <td>0</td>\n",
              "      <td>0</td>\n",
              "      <td>0</td>\n",
              "      <td>0</td>\n",
              "      <td>0</td>\n",
              "      <td>0</td>\n",
              "      <td>0</td>\n",
              "      <td>0</td>\n",
              "      <td>0</td>\n",
              "      <td>0</td>\n",
              "      <td>0</td>\n",
              "      <td>0</td>\n",
              "      <td>0</td>\n",
              "      <td>0</td>\n",
              "      <td>0</td>\n",
              "      <td>0</td>\n",
              "      <td>0</td>\n",
              "      <td>0</td>\n",
              "      <td>0</td>\n",
              "    </tr>\n",
              "    <tr>\n",
              "      <th>2396</th>\n",
              "      <td>0</td>\n",
              "      <td>0</td>\n",
              "      <td>0</td>\n",
              "      <td>0</td>\n",
              "      <td>0</td>\n",
              "      <td>0</td>\n",
              "      <td>0</td>\n",
              "      <td>0</td>\n",
              "      <td>0</td>\n",
              "      <td>0</td>\n",
              "      <td>0</td>\n",
              "      <td>0</td>\n",
              "      <td>0</td>\n",
              "      <td>0</td>\n",
              "      <td>0</td>\n",
              "      <td>0</td>\n",
              "      <td>0</td>\n",
              "      <td>0</td>\n",
              "      <td>0</td>\n",
              "      <td>0</td>\n",
              "      <td>0</td>\n",
              "      <td>0</td>\n",
              "      <td>0</td>\n",
              "      <td>0</td>\n",
              "      <td>0</td>\n",
              "      <td>0</td>\n",
              "      <td>0</td>\n",
              "      <td>0</td>\n",
              "      <td>0</td>\n",
              "      <td>0</td>\n",
              "      <td>0</td>\n",
              "      <td>0</td>\n",
              "      <td>0</td>\n",
              "      <td>0</td>\n",
              "      <td>0</td>\n",
              "      <td>0</td>\n",
              "      <td>0</td>\n",
              "      <td>0</td>\n",
              "      <td>0</td>\n",
              "      <td>0</td>\n",
              "      <td>...</td>\n",
              "      <td>0</td>\n",
              "      <td>0</td>\n",
              "      <td>0</td>\n",
              "      <td>0</td>\n",
              "      <td>0</td>\n",
              "      <td>0</td>\n",
              "      <td>0</td>\n",
              "      <td>0</td>\n",
              "      <td>0</td>\n",
              "      <td>0</td>\n",
              "      <td>0</td>\n",
              "      <td>0</td>\n",
              "      <td>0</td>\n",
              "      <td>0</td>\n",
              "      <td>0</td>\n",
              "      <td>0</td>\n",
              "      <td>0</td>\n",
              "      <td>0</td>\n",
              "      <td>0</td>\n",
              "      <td>0</td>\n",
              "      <td>0</td>\n",
              "      <td>0</td>\n",
              "      <td>0</td>\n",
              "      <td>0</td>\n",
              "      <td>0</td>\n",
              "      <td>0</td>\n",
              "      <td>0</td>\n",
              "      <td>0</td>\n",
              "      <td>0</td>\n",
              "      <td>0</td>\n",
              "      <td>0</td>\n",
              "      <td>0</td>\n",
              "      <td>0</td>\n",
              "      <td>0</td>\n",
              "      <td>0</td>\n",
              "      <td>0</td>\n",
              "      <td>0</td>\n",
              "      <td>0</td>\n",
              "      <td>0</td>\n",
              "      <td>0</td>\n",
              "    </tr>\n",
              "    <tr>\n",
              "      <th>2397</th>\n",
              "      <td>0</td>\n",
              "      <td>0</td>\n",
              "      <td>0</td>\n",
              "      <td>0</td>\n",
              "      <td>0</td>\n",
              "      <td>0</td>\n",
              "      <td>0</td>\n",
              "      <td>0</td>\n",
              "      <td>0</td>\n",
              "      <td>0</td>\n",
              "      <td>0</td>\n",
              "      <td>0</td>\n",
              "      <td>0</td>\n",
              "      <td>0</td>\n",
              "      <td>0</td>\n",
              "      <td>0</td>\n",
              "      <td>0</td>\n",
              "      <td>0</td>\n",
              "      <td>0</td>\n",
              "      <td>0</td>\n",
              "      <td>0</td>\n",
              "      <td>0</td>\n",
              "      <td>0</td>\n",
              "      <td>0</td>\n",
              "      <td>0</td>\n",
              "      <td>0</td>\n",
              "      <td>0</td>\n",
              "      <td>0</td>\n",
              "      <td>0</td>\n",
              "      <td>0</td>\n",
              "      <td>0</td>\n",
              "      <td>0</td>\n",
              "      <td>0</td>\n",
              "      <td>0</td>\n",
              "      <td>0</td>\n",
              "      <td>0</td>\n",
              "      <td>0</td>\n",
              "      <td>0</td>\n",
              "      <td>0</td>\n",
              "      <td>0</td>\n",
              "      <td>...</td>\n",
              "      <td>0</td>\n",
              "      <td>0</td>\n",
              "      <td>0</td>\n",
              "      <td>0</td>\n",
              "      <td>0</td>\n",
              "      <td>0</td>\n",
              "      <td>0</td>\n",
              "      <td>0</td>\n",
              "      <td>0</td>\n",
              "      <td>0</td>\n",
              "      <td>0</td>\n",
              "      <td>0</td>\n",
              "      <td>0</td>\n",
              "      <td>0</td>\n",
              "      <td>0</td>\n",
              "      <td>0</td>\n",
              "      <td>0</td>\n",
              "      <td>0</td>\n",
              "      <td>0</td>\n",
              "      <td>0</td>\n",
              "      <td>0</td>\n",
              "      <td>0</td>\n",
              "      <td>0</td>\n",
              "      <td>0</td>\n",
              "      <td>0</td>\n",
              "      <td>0</td>\n",
              "      <td>0</td>\n",
              "      <td>0</td>\n",
              "      <td>0</td>\n",
              "      <td>0</td>\n",
              "      <td>0</td>\n",
              "      <td>0</td>\n",
              "      <td>0</td>\n",
              "      <td>0</td>\n",
              "      <td>0</td>\n",
              "      <td>0</td>\n",
              "      <td>0</td>\n",
              "      <td>0</td>\n",
              "      <td>0</td>\n",
              "      <td>0</td>\n",
              "    </tr>\n",
              "    <tr>\n",
              "      <th>2398</th>\n",
              "      <td>0</td>\n",
              "      <td>0</td>\n",
              "      <td>0</td>\n",
              "      <td>0</td>\n",
              "      <td>0</td>\n",
              "      <td>0</td>\n",
              "      <td>0</td>\n",
              "      <td>0</td>\n",
              "      <td>0</td>\n",
              "      <td>0</td>\n",
              "      <td>0</td>\n",
              "      <td>0</td>\n",
              "      <td>0</td>\n",
              "      <td>0</td>\n",
              "      <td>0</td>\n",
              "      <td>0</td>\n",
              "      <td>0</td>\n",
              "      <td>0</td>\n",
              "      <td>0</td>\n",
              "      <td>0</td>\n",
              "      <td>0</td>\n",
              "      <td>0</td>\n",
              "      <td>0</td>\n",
              "      <td>0</td>\n",
              "      <td>0</td>\n",
              "      <td>0</td>\n",
              "      <td>0</td>\n",
              "      <td>0</td>\n",
              "      <td>0</td>\n",
              "      <td>0</td>\n",
              "      <td>0</td>\n",
              "      <td>0</td>\n",
              "      <td>0</td>\n",
              "      <td>0</td>\n",
              "      <td>0</td>\n",
              "      <td>0</td>\n",
              "      <td>0</td>\n",
              "      <td>0</td>\n",
              "      <td>0</td>\n",
              "      <td>0</td>\n",
              "      <td>...</td>\n",
              "      <td>0</td>\n",
              "      <td>0</td>\n",
              "      <td>0</td>\n",
              "      <td>0</td>\n",
              "      <td>0</td>\n",
              "      <td>0</td>\n",
              "      <td>0</td>\n",
              "      <td>0</td>\n",
              "      <td>0</td>\n",
              "      <td>0</td>\n",
              "      <td>0</td>\n",
              "      <td>0</td>\n",
              "      <td>0</td>\n",
              "      <td>0</td>\n",
              "      <td>0</td>\n",
              "      <td>0</td>\n",
              "      <td>0</td>\n",
              "      <td>0</td>\n",
              "      <td>0</td>\n",
              "      <td>0</td>\n",
              "      <td>0</td>\n",
              "      <td>0</td>\n",
              "      <td>0</td>\n",
              "      <td>0</td>\n",
              "      <td>0</td>\n",
              "      <td>0</td>\n",
              "      <td>0</td>\n",
              "      <td>0</td>\n",
              "      <td>0</td>\n",
              "      <td>0</td>\n",
              "      <td>0</td>\n",
              "      <td>0</td>\n",
              "      <td>0</td>\n",
              "      <td>0</td>\n",
              "      <td>0</td>\n",
              "      <td>0</td>\n",
              "      <td>0</td>\n",
              "      <td>0</td>\n",
              "      <td>0</td>\n",
              "      <td>0</td>\n",
              "    </tr>\n",
              "    <tr>\n",
              "      <th>2399</th>\n",
              "      <td>0</td>\n",
              "      <td>0</td>\n",
              "      <td>0</td>\n",
              "      <td>0</td>\n",
              "      <td>0</td>\n",
              "      <td>0</td>\n",
              "      <td>0</td>\n",
              "      <td>0</td>\n",
              "      <td>0</td>\n",
              "      <td>0</td>\n",
              "      <td>0</td>\n",
              "      <td>0</td>\n",
              "      <td>0</td>\n",
              "      <td>0</td>\n",
              "      <td>0</td>\n",
              "      <td>0</td>\n",
              "      <td>0</td>\n",
              "      <td>0</td>\n",
              "      <td>0</td>\n",
              "      <td>0</td>\n",
              "      <td>0</td>\n",
              "      <td>0</td>\n",
              "      <td>0</td>\n",
              "      <td>0</td>\n",
              "      <td>0</td>\n",
              "      <td>0</td>\n",
              "      <td>0</td>\n",
              "      <td>0</td>\n",
              "      <td>0</td>\n",
              "      <td>0</td>\n",
              "      <td>0</td>\n",
              "      <td>0</td>\n",
              "      <td>0</td>\n",
              "      <td>0</td>\n",
              "      <td>0</td>\n",
              "      <td>0</td>\n",
              "      <td>0</td>\n",
              "      <td>0</td>\n",
              "      <td>0</td>\n",
              "      <td>0</td>\n",
              "      <td>...</td>\n",
              "      <td>0</td>\n",
              "      <td>0</td>\n",
              "      <td>0</td>\n",
              "      <td>0</td>\n",
              "      <td>0</td>\n",
              "      <td>0</td>\n",
              "      <td>0</td>\n",
              "      <td>0</td>\n",
              "      <td>0</td>\n",
              "      <td>0</td>\n",
              "      <td>0</td>\n",
              "      <td>0</td>\n",
              "      <td>0</td>\n",
              "      <td>0</td>\n",
              "      <td>0</td>\n",
              "      <td>0</td>\n",
              "      <td>0</td>\n",
              "      <td>0</td>\n",
              "      <td>0</td>\n",
              "      <td>0</td>\n",
              "      <td>0</td>\n",
              "      <td>0</td>\n",
              "      <td>0</td>\n",
              "      <td>0</td>\n",
              "      <td>0</td>\n",
              "      <td>0</td>\n",
              "      <td>0</td>\n",
              "      <td>0</td>\n",
              "      <td>0</td>\n",
              "      <td>0</td>\n",
              "      <td>0</td>\n",
              "      <td>0</td>\n",
              "      <td>0</td>\n",
              "      <td>0</td>\n",
              "      <td>0</td>\n",
              "      <td>0</td>\n",
              "      <td>0</td>\n",
              "      <td>0</td>\n",
              "      <td>0</td>\n",
              "      <td>0</td>\n",
              "    </tr>\n",
              "  </tbody>\n",
              "</table>\n",
              "<p>2400 rows × 4273 columns</p>\n",
              "</div>"
            ],
            "text/plain": [
              "      0     1     2     3     4     5     ...  4267  4268  4269  4270  4271  4272\n",
              "0        0     0     0     0     0     0  ...     0     0     0     0     0     0\n",
              "1        0     0     0     0     0     0  ...     0     0     0     0     0     0\n",
              "2        0     0     0     0     0     0  ...     0     0     0     0     0     0\n",
              "3        0     0     0     0     0     0  ...     0     0     0     0     0     0\n",
              "4        0     0     0     0     0     0  ...     0     0     0     0     0     0\n",
              "...    ...   ...   ...   ...   ...   ...  ...   ...   ...   ...   ...   ...   ...\n",
              "2395     0     0     0     0     0     0  ...     0     0     0     0     0     0\n",
              "2396     0     0     0     0     0     0  ...     0     0     0     0     0     0\n",
              "2397     0     0     0     0     0     0  ...     0     0     0     0     0     0\n",
              "2398     0     0     0     0     0     0  ...     0     0     0     0     0     0\n",
              "2399     0     0     0     0     0     0  ...     0     0     0     0     0     0\n",
              "\n",
              "[2400 rows x 4273 columns]"
            ]
          },
          "metadata": {
            "tags": []
          },
          "execution_count": 6
        }
      ]
    },
    {
      "cell_type": "code",
      "metadata": {
        "colab": {
          "base_uri": "https://localhost:8080/"
        },
        "id": "kmEaxnxRuZEF",
        "outputId": "2fd539e5-7165-40c8-ace2-0191d59c7fbf"
      },
      "source": [
        " # running the logistic regression\n",
        "from sklearn.linear_model import LogisticRegression\n",
        "\n",
        "Log_Reg = LogisticRegression()\n",
        "\n",
        "Log_Reg.fit(x_train_features, y_train)\n",
        "\n",
        "predictions= Log_Reg.predict(x_test_features)\n",
        "score = Log_Reg.score(x_test_features, y_test)\n",
        "\n",
        "score"
      ],
      "execution_count": 7,
      "outputs": [
        {
          "output_type": "execute_result",
          "data": {
            "text/plain": [
              "0.8033333333333333"
            ]
          },
          "metadata": {
            "tags": []
          },
          "execution_count": 7
        }
      ]
    },
    {
      "cell_type": "code",
      "metadata": {
        "id": "QCwDPOU4UhGa"
      },
      "source": [
        "from sklearn.metrics import accuracy_score, confusion_matrix\n",
        "def logistic_helper(xtrain, xtest, ytrain, ytest):\n",
        "  clf = LogisticRegression()\n",
        "  clf.fit(xtrain, ytrain)\n",
        "  preds = clf.predict(xtest)\n",
        "  \n",
        "  # get evaluation metrics \n",
        "  score = accuracy_score(ytest, preds)\n",
        "  TN, FP, FN, TP = confusion_matrix(ytest, preds).ravel()\n",
        "  precision = TP/(TP + FP) # sensitivity\n",
        "  recall = TP/(TP + FN) # true positive rate\n",
        "  specificity = TN/(TN + FP)\n",
        "  falsepos = FP/(FP + TN)\n",
        "  print(\"TP =\", str(TP), 'FP =', str(FP), 'FN =', str(FN), 'TN =', str(TN))\n",
        "  print('Precision =', str(precision), 'Recall =', str(recall), 'Specificity =', str(specificity), \"False Positive =\", str(falsepos))\n",
        "  return score"
      ],
      "execution_count": 8,
      "outputs": []
    },
    {
      "cell_type": "code",
      "metadata": {
        "colab": {
          "base_uri": "https://localhost:8080/"
        },
        "id": "4lP36x6HU1I9",
        "outputId": "b87044c7-e784-4e81-dea7-d65a24684973"
      },
      "source": [
        "x_train_imdb, x_valid_imdb, x_test_imdb = bag_of_words(X_train_imdb, X_valid_imdb, X_test_imdb)\n",
        "score = logistic_helper(x_train_imdb, x_test_imdb, y_train_imdb, y_test_imdb)\n",
        "print (\"IMDB only score\", score)"
      ],
      "execution_count": 9,
      "outputs": [
        {
          "output_type": "stream",
          "text": [
            "TP = 38 FP = 12 FN = 12 TN = 38\n",
            "Precision = 0.76 Recall = 0.76 Specificity = 0.76 False Positive = 0.24\n",
            "IMDB only score 0.76\n"
          ],
          "name": "stdout"
        }
      ]
    },
    {
      "cell_type": "code",
      "metadata": {
        "colab": {
          "base_uri": "https://localhost:8080/"
        },
        "id": "2SyMKZ2bVDpb",
        "outputId": "9ec1876b-d5c9-42d5-e462-f37945ee731d"
      },
      "source": [
        "# amazon only\n",
        "x_train_amaz, x_valid_amaz, x_test_amaz = bag_of_words(X_train_amaz, X_valid_amaz, X_test_amaz)\n",
        "score = logistic_helper(x_train_amaz, x_test_amaz, y_train_amaz, y_test_amaz)\n",
        "print (\"Amazon only score\", score)"
      ],
      "execution_count": 10,
      "outputs": [
        {
          "output_type": "stream",
          "text": [
            "TP = 40 FP = 6 FN = 10 TN = 44\n",
            "Precision = 0.8695652173913043 Recall = 0.8 Specificity = 0.88 False Positive = 0.12\n",
            "Amazon only score 0.84\n"
          ],
          "name": "stdout"
        }
      ]
    },
    {
      "cell_type": "code",
      "metadata": {
        "colab": {
          "base_uri": "https://localhost:8080/"
        },
        "id": "8Vqkj-jFU_Ld",
        "outputId": "132271de-ca94-437d-efde-99e5a51ca803"
      },
      "source": [
        "# yelp only\n",
        "x_train_yelp, x_valid_yelp, x_test_yelp = bag_of_words(X_train_yelp, X_valid_yelp, X_test_yelp)\n",
        "score = logistic_helper(x_train_yelp, x_test_yelp, y_train_yelp, y_test_yelp)\n",
        "print (\"Yelp only score\", score)"
      ],
      "execution_count": 11,
      "outputs": [
        {
          "output_type": "stream",
          "text": [
            "TP = 35 FP = 7 FN = 15 TN = 43\n",
            "Precision = 0.8333333333333334 Recall = 0.7 Specificity = 0.86 False Positive = 0.14\n",
            "Yelp only score 0.78\n"
          ],
          "name": "stdout"
        }
      ]
    },
    {
      "cell_type": "code",
      "metadata": {
        "colab": {
          "base_uri": "https://localhost:8080/"
        },
        "id": "y-LKR4ZtVXBY",
        "outputId": "c3473370-722e-4bb1-ea24-b5e5f3d7520f"
      },
      "source": [
        "# train on imdb, test on others\n",
        "x_test_comb = X_test_amaz + X_test_yelp\n",
        "y_test_comb = y_test_amaz + y_test_yelp\n",
        "x_train_imdb, x_valid_imdb, x_test_comb = bag_of_words(X_train_imdb, X_valid_imdb, x_test_comb)\n",
        "score = logistic_helper(x_train_imdb, x_test_comb, y_train_imdb, y_test_comb)\n",
        "print (\"IMDB train, test on rest\", score)"
      ],
      "execution_count": 12,
      "outputs": [
        {
          "output_type": "stream",
          "text": [
            "TP = 56 FP = 14 FN = 44 TN = 86\n",
            "Precision = 0.8 Recall = 0.56 Specificity = 0.86 False Positive = 0.14\n",
            "IMDB train, test on rest 0.71\n"
          ],
          "name": "stdout"
        }
      ]
    },
    {
      "cell_type": "code",
      "metadata": {
        "colab": {
          "base_uri": "https://localhost:8080/"
        },
        "id": "jQi8aHCuVj1o",
        "outputId": "077d34c0-7ee1-4158-cd4b-40f88f7678d8"
      },
      "source": [
        "# train on amazon, test on others\n",
        "x_test_comb = X_test_yelp + X_test_imdb\n",
        "y_test_comb = y_test_yelp + y_test_imdb\n",
        "x_train_amaz, x_valid_amaz, x_test_comb = bag_of_words(X_train_amaz, X_valid_amaz, x_test_comb)\n",
        "score = logistic_helper(x_train_amaz, x_test_comb, y_train_amaz, y_test_comb)\n",
        "print (\"Amazon train, test on rest\", score)"
      ],
      "execution_count": 13,
      "outputs": [
        {
          "output_type": "stream",
          "text": [
            "TP = 52 FP = 16 FN = 48 TN = 84\n",
            "Precision = 0.7647058823529411 Recall = 0.52 Specificity = 0.84 False Positive = 0.16\n",
            "Amazon train, test on rest 0.68\n"
          ],
          "name": "stdout"
        }
      ]
    },
    {
      "cell_type": "code",
      "metadata": {
        "colab": {
          "base_uri": "https://localhost:8080/"
        },
        "id": "Fv4CT2IjVkS5",
        "outputId": "f8b88494-c383-4b3e-f540-b64a1c5b11b1"
      },
      "source": [
        "# train on yelp, test on others\n",
        "x_test_comb = X_test_amaz + X_test_imdb\n",
        "y_test_comb = y_test_amaz + y_test_imdb\n",
        "x_train_yelp, x_valid_yelp, x_test_comb = bag_of_words(X_train_yelp, X_valid_yelp, x_test_comb)\n",
        "score = logistic_helper(x_train_yelp, x_test_comb, y_train_yelp, y_test_comb)\n",
        "print (\"Yelp train, test on rest\", score)"
      ],
      "execution_count": 14,
      "outputs": [
        {
          "output_type": "stream",
          "text": [
            "TP = 48 FP = 11 FN = 52 TN = 89\n",
            "Precision = 0.8135593220338984 Recall = 0.48 Specificity = 0.89 False Positive = 0.11\n",
            "Yelp train, test on rest 0.685\n"
          ],
          "name": "stdout"
        }
      ]
    },
    {
      "cell_type": "markdown",
      "metadata": {
        "id": "dTCT51n84WP5"
      },
      "source": [
        "# Pre-processing\n",
        "\n"
      ]
    },
    {
      "cell_type": "code",
      "metadata": {
        "colab": {
          "base_uri": "https://localhost:8080/"
        },
        "id": "6Vt0ZBIJ1TJR",
        "outputId": "3cffd278-7f15-4494-aa15-bdd678258f29"
      },
      "source": [
        "import nltk\n",
        "nltk.download('punkt')\n",
        "nltk.download('stopwords')\n",
        "nltk.download('wordnet')\n",
        "from nltk.stem import WordNetLemmatizer \n",
        "from nltk.stem import PorterStemmer\n",
        "from nltk.stem import LancasterStemmer\n",
        "from nltk.stem.snowball import SnowballStemmer\n",
        "import contractions"
      ],
      "execution_count": 15,
      "outputs": [
        {
          "output_type": "stream",
          "text": [
            "[nltk_data] Downloading package punkt to /root/nltk_data...\n",
            "[nltk_data]   Package punkt is already up-to-date!\n",
            "[nltk_data] Downloading package stopwords to /root/nltk_data...\n",
            "[nltk_data]   Package stopwords is already up-to-date!\n",
            "[nltk_data] Downloading package wordnet to /root/nltk_data...\n",
            "[nltk_data]   Package wordnet is already up-to-date!\n"
          ],
          "name": "stdout"
        }
      ]
    },
    {
      "cell_type": "code",
      "metadata": {
        "id": "Gc2c5EyD6lSu"
      },
      "source": [
        "stopwords = set(nltk.corpus.stopwords.words('english'))\n",
        "\n",
        "def expand_contractions(text):\n",
        "  expanded_words = []\n",
        "  for word in text.split():\n",
        "    expanded_words.append(contractions.fix(word))\n",
        "  expanded_text = ' '.join(expanded_words)\n",
        "  return expanded_text\n",
        "\n",
        "def clean_text(text):\n",
        "    \"\"\"\n",
        "    Remove stopwords, punctuation, numbers from text.\n",
        "    Args:\n",
        "        text: article text\n",
        "\n",
        "    Returns:\n",
        "        Space-delimited and cleaned string\n",
        "    \"\"\"\n",
        "    # tokenize text\n",
        "    tokens = nltk.word_tokenize(text)\n",
        "\n",
        "    # remove stopwords\n",
        "    tokens = [token.lower().strip() for token in tokens if token.lower() not in stopwords]\n",
        "\n",
        "    # remove tokens without alphabetic characters (i.e. punctuation, numbers)\n",
        "    tokens = [token for token in tokens if any(t.isalpha() for t in token)]\n",
        "\n",
        "    # remove excess characters if there are three or more of the same letter in a row\n",
        "    for i in range(len(tokens)-1):\n",
        "      tokens[i] = removeDuplicates(tokens[i])\n",
        "    return ' '.join(tokens)\n",
        "\n",
        "\n",
        "def removeDuplicates(token): \n",
        "  \"\"\"\n",
        "  Helper method, removes adjacent duplicate characters if there are three or more duplicates\n",
        "\n",
        "  Args:\n",
        "    token: the word being cleaned\n",
        "  \n",
        "  Returns:\n",
        "    The cleaned token\n",
        "  \"\"\"\n",
        "  char = \"\"\n",
        "  i = 0\n",
        "  while (i < len(token)): \n",
        "      if (i < len(token) - 2 and\n",
        "          token[i] * 3 == token[i:i + 3]): \n",
        "          i += 3\n",
        "      else: \n",
        "          char += token[i] \n",
        "          i += 1\n",
        "  if (len(char) == len(token)): \n",
        "      return char \n",
        "  else: \n",
        "      return removeDuplicates(char) \n",
        "\n",
        "\n",
        "def lemmatize(tokens):\n",
        "  \"\"\"\n",
        "  Lemmatizes all words in the sentence using NLTK's package\n",
        "\n",
        "  Args:\n",
        "    tokens: the tokenized sentence to lemmatize\n",
        "  \n",
        "  Returns:\n",
        "    The lemmatized sentence\n",
        "  \"\"\"\n",
        "  lemmatizer = WordNetLemmatizer() \n",
        "  for i in range(len(tokens)-1):\n",
        "    tokens[i] = lemmatizer.lemmatize(str(tokens[i]))\n",
        "  return ' '.join(tokens)\n",
        "\n",
        "# def porter_stem(tokens):\n",
        "#   porter = PorterStemmer()\n",
        "#   for i in range(len(tokens)-1):\n",
        "#     tokens[i] = porter.stem(str(tokens[i]))\n",
        "#   return ' '.join(tokens)\n",
        "\n",
        "# def lancaster_stem(tokens):\n",
        "#   lancaster = LancasterStemmer()\n",
        "#   for i in range(len(tokens)-1):\n",
        "#     tokens[i] = lancaster.stem(str(tokens[i]))\n",
        "#   return ' '.join(tokens)\n",
        "\n",
        "def snowball_stem(tokens):\n",
        "  \"\"\"\n",
        "  Performs snowball stemming on the sentence\n",
        "\n",
        "  Args:\n",
        "    tokens: the tokenized sentence to stem\n",
        "  \n",
        "  Returns:\n",
        "    The stemmed sentence\n",
        "  \"\"\"\n",
        "  snowball = SnowballStemmer(\"english\")\n",
        "  for i in range(len(tokens)-1):\n",
        "    tokens[i] = snowball.stem(str(tokens[i]))\n",
        "  return ' '.join(tokens)"
      ],
      "execution_count": 16,
      "outputs": []
    },
    {
      "cell_type": "code",
      "metadata": {
        "colab": {
          "base_uri": "https://localhost:8080/"
        },
        "id": "9lWhclOVaWtX",
        "outputId": "c7728f70-26e8-4947-edce-4849b52fda57"
      },
      "source": [
        "def preprocess(X):\n",
        "  clean = []\n",
        "  for x in X:\n",
        "    # Expand all contractions in the sentence\n",
        "    # out = expand_contractions(x)\n",
        "    out = x\n",
        "\n",
        "    # Remove stopwords, punctuation, numbers, and duplicate adjacent characters\n",
        "    out = clean_text(out)\n",
        "\n",
        "    # Perform lemmatization and stemming on the sentence\n",
        "    tokens = nltk.word_tokenize(out)\n",
        "    out = lemmatize(tokens)\n",
        "    # out = snowball_stem(tokens) # seems to be the issue causing broken words\n",
        "    clean.append(out)\n",
        "  return clean\n",
        "    \n",
        "X_clean = {'amazon': preprocess(X['amazon']),\n",
        "           'imdb': preprocess(X['imdb']),\n",
        "           'yelp': preprocess(X['yelp']),\n",
        "           'all': preprocess(X['all'])}\n",
        "print(X['amazon'][1])\n",
        "print(X_clean['amazon'][1])"
      ],
      "execution_count": 17,
      "outputs": [
        {
          "output_type": "stream",
          "text": [
            "Good case, Excellent value.\n",
            "good case excellent value\n"
          ],
          "name": "stdout"
        }
      ]
    },
    {
      "cell_type": "code",
      "metadata": {
        "id": "1xvINjZkspwQ"
      },
      "source": [
        "rand_state = 69\n",
        "\n",
        "# split into test and train\n",
        "from sklearn.model_selection import train_test_split\n",
        "X_train, X_test, y_train, y_test = train_test_split(X_clean['all'], y['all'], test_size=0.2, random_state=rand_state)\n",
        "X_train_amaz, X_test_amaz, y_train_amaz, y_test_amaz = train_test_split(X_clean['amazon'], y['amazon'], \n",
        "                                                                        test_size=0.2, stratify=y['amazon'], random_state=rand_state)\n",
        "X_train_imdb, X_test_imdb, y_train_imdb, y_test_imdb = train_test_split(X_clean['imdb'], y['imdb'], \n",
        "                                                                        test_size=0.2, stratify=y['imdb'], random_state=rand_state)\n",
        "X_train_yelp, X_test_yelp, y_train_yelp, y_test_yelp = train_test_split(X_clean['yelp'], y['yelp'], \n",
        "                                                                        test_size=0.2, stratify=y['yelp'], random_state=rand_state)\n",
        "\n",
        "# split into test and validation\n",
        "X_valid, X_test, y_valid, y_test = train_test_split(X_test, y_test, test_size=0.5, stratify = y_test, random_state=rand_state)\n",
        "X_valid_amaz, X_test_amaz, y_valid_amaz, y_test_amaz = train_test_split(X_test_amaz, y_test_amaz, test_size=0.5, stratify=y_test_amaz, random_state=rand_state)\n",
        "X_valid_imdb, X_test_imdb, y_valid_imdb, y_test_imdb = train_test_split(X_test_imdb, y_test_imdb, test_size=0.5, stratify=y_test_imdb, random_state=rand_state)\n",
        "X_valid_yelp, X_test_yelp, y_valid_yelp, y_test_yelp = train_test_split(X_test_yelp, y_test_yelp, test_size=0.5, stratify=y_test_yelp, random_state=rand_state)\n",
        "\n",
        "# X_train, y_train, X_valid, y_valid, X_test, y_test, X_train_amaz, y_train_amaz, X_train_imdb, y_train_imdb, X_train_yelp, y_train_yelp = split(X_clean, y)\n"
      ],
      "execution_count": 18,
      "outputs": []
    },
    {
      "cell_type": "markdown",
      "metadata": {
        "id": "-8KPqyWo4kQL"
      },
      "source": [
        "# Feature extraction"
      ]
    },
    {
      "cell_type": "code",
      "metadata": {
        "id": "VV0SwRKZv7XC"
      },
      "source": [
        "from sklearn.feature_extraction.text import TfidfVectorizer\n",
        "def tfidf(Xtrain, Xvalid, Xtest):\n",
        "  vectorizer = TfidfVectorizer()\n",
        "  x_train_features = vectorizer.fit_transform(Xtrain)\n",
        "  x_valid_features = vectorizer.transform(Xvalid)\n",
        "  x_test_features = vectorizer.transform(Xtest)  \n",
        "  return (x_train_features, x_valid_features, x_test_features)"
      ],
      "execution_count": 19,
      "outputs": []
    },
    {
      "cell_type": "code",
      "metadata": {
        "colab": {
          "base_uri": "https://localhost:8080/"
        },
        "id": "DzGjBxtMsqER",
        "outputId": "02d1a7ea-2fb8-4583-dfe0-5405c19700c7"
      },
      "source": [
        "x_train_features, x_valid_features, x_test_features = tfidf(X_train, X_valid, X_test)\n",
        "\n",
        "print(x_train_features.shape)\n",
        "print(x_valid_features.shape)\n",
        "print(x_test_features.shape)"
      ],
      "execution_count": 20,
      "outputs": [
        {
          "output_type": "stream",
          "text": [
            "(2400, 4168)\n",
            "(300, 4168)\n",
            "(300, 4168)\n"
          ],
          "name": "stdout"
        }
      ]
    },
    {
      "cell_type": "code",
      "metadata": {
        "id": "87bNLl6Y1gJ5"
      },
      "source": [
        "# # word2vec\n",
        "# from gensim.models import Word2Vec\n",
        "# import time\n",
        "\n",
        "# split_train = [rev.split() for rev in X_train]\n",
        "# split_test = [rev.split() for rev in X_test]\n",
        "\n",
        "# w2v_model = Word2Vec(split_train, min_count=1, size=1000, window=3, sg=0)\n",
        "\n",
        "# vecs_train = np.zeros((2400,1000))\n",
        "# for n, rev in enumerate(split_train):\n",
        "#   vecs_train[n] = np.mean([w2v_model[token] for token in rev], axis=0) if rev else np.zeros(1000)\n",
        "\n",
        "# vecs_test = np.zeros((600,1000))\n",
        "# for n, rev in enumerate(split_test):\n",
        "#   vecs_test[n] = np.mean([w2v_model[token] if token in w2v_model.wv.vocab else np.zeros(1000) for token in rev], axis=0) if rev else np.zeros(1000)\n",
        "\n",
        "# print(vecs_train.shape, vecs_test.shape)\n",
        "# feat_train = x_train_features.toarray()\n",
        "# feat_test = x_test_features.toarray()\n",
        "# x_train_all = np.concatenate((feat_train, vecs_train),axis=1)\n",
        "# x_test_all = np.concatenate((feat_test, vecs_test),axis=1)\n",
        "# print(x_train_all.shape, x_test_all.shape)"
      ],
      "execution_count": 21,
      "outputs": []
    },
    {
      "cell_type": "code",
      "metadata": {
        "id": "9ilcFVtC4wTn"
      },
      "source": [
        "# from sklearn.tree import DecisionTreeClassifier\n",
        "\n",
        "# clf = DecisionTreeClassifier()\n",
        "# clf.fit(vecs_train, y_train)\n",
        "# test_pred = clf.predict(vecs_test)\n",
        "# # clf.fit(x_train_all, y_train)\n",
        "# # test_pred = clf.predict(x_test_all)\n",
        "# print(\"Accuracy:\", sklearn.metrics.accuracy_score(y_test, test_pred))"
      ],
      "execution_count": 22,
      "outputs": []
    },
    {
      "cell_type": "markdown",
      "metadata": {
        "id": "jj87QcdinA5S"
      },
      "source": [
        "#Models"
      ]
    },
    {
      "cell_type": "markdown",
      "metadata": {
        "id": "t4DqKIMp4q2u"
      },
      "source": [
        "## 1. SVM"
      ]
    },
    {
      "cell_type": "code",
      "metadata": {
        "colab": {
          "base_uri": "https://localhost:8080/"
        },
        "id": "gVLLRt99u0EO",
        "outputId": "c6f3b6f3-f693-40b2-ba9a-3e10bb6a8dc4"
      },
      "source": [
        "from sklearn import svm\n",
        "\n",
        "clf = svm.SVC()\n",
        "\n",
        "clf.fit(x_train_features, y_train)\n",
        "valid_preds = clf.predict(x_valid_features)\n",
        "\n",
        "# clf.fit(x_train_all, y_train)\n",
        "# test_pred = clf.predict(x_test_all)\n",
        "print(\"No Hyperparmeters Validation Accuracy:\", sklearn.metrics.accuracy_score(y_valid, valid_preds))"
      ],
      "execution_count": 23,
      "outputs": [
        {
          "output_type": "stream",
          "text": [
            "No Hyperparmeters Validation Accuracy: 0.8233333333333334\n"
          ],
          "name": "stdout"
        }
      ]
    },
    {
      "cell_type": "code",
      "metadata": {
        "id": "eJOr8KBAav-X"
      },
      "source": [
        "# hyperparamter tuning\n",
        "import random\n",
        "from random import randint\n",
        "from sklearn.model_selection import RandomizedSearchCV, PredefinedSplit\n",
        "from scipy.sparse import coo_matrix, vstack\n",
        "\n",
        "def hyperparameter_tuning(xtrain, xvalid, ytrain, yvalid, param_grid, model):\n",
        "  x1 = vstack((xtrain, xvalid))\n",
        "  y1 = ytrain + yvalid\n",
        "\n",
        "  test_fold = np.concatenate([\n",
        "      # The training data.\n",
        "      np.full(fill_value=-1, shape=xtrain.shape[0], dtype=np.int8),\n",
        "      # The development data.\n",
        "      np.zeros(xvalid.shape[0], dtype=np.int8)\n",
        "  ])\n",
        "  cv = sklearn.model_selection.PredefinedSplit(test_fold)\n",
        "\n",
        "  # Specifics of the random sweep - up to 100 randomly selected hyperparameter combinations\n",
        "  hp_search = RandomizedSearchCV(estimator=model, param_distributions=param_grid, n_iter=50, cv=cv, n_jobs=-1, random_state=3)\n",
        "  hp_search.fit(x1, y1)\n",
        "  print(\"Results\")\n",
        "  print(hp_search.best_score_)\n",
        "  print(hp_search.best_estimator_)\n",
        "  print(hp_search.best_params_)\n",
        "  return hp_search.best_estimator_"
      ],
      "execution_count": 24,
      "outputs": []
    },
    {
      "cell_type": "code",
      "metadata": {
        "colab": {
          "base_uri": "https://localhost:8080/"
        },
        "id": "HjpY35cS6wOb",
        "outputId": "b9cc3de1-3f99-461d-d27e-1bea64a427d8"
      },
      "source": [
        "# SVM\n",
        "\n",
        "# clf = svm.SVC(shrinking = False, probability = True, kernel = 'poly', gamma = 'scale', degree = 1, C = 2.0)\n",
        "# clf = hp_search.best_estimator_\n",
        "param_grid = {\"C\": [0.1, 0.5, 1.0, 2.0, 10], \"kernel\":['linear', 'poly', 'rbf', 'sigmoid'] , \"degree\": [1, 3, 5, 7], \"gamma\": ['scale', 'auto'], \n",
        "                \"shrinking\": [True, False], \"probability\": [True, False]}\n",
        "\n",
        "model = svm.SVC(random_state=random.seed())\n",
        "clf = hyperparameter_tuning(x_train_features, x_valid_features, y_train, y_valid, param_grid, model)\n",
        "\n",
        "clf.fit(x_train_features, y_train)\n",
        "test_pred = clf.predict(x_test_features)\n",
        "\n",
        "# clf.fit(x_train_all, y_train)\n",
        "# test_pred = clf.predict(x_test_all)\n",
        "print(\"Hyperparmeter Accuracy:\", sklearn.metrics.accuracy_score(y_test, test_pred))"
      ],
      "execution_count": 25,
      "outputs": [
        {
          "output_type": "stream",
          "text": [
            "Results\n",
            "0.84\n",
            "SVC(C=0.5, break_ties=False, cache_size=200, class_weight=None, coef0=0.0,\n",
            "    decision_function_shape='ovr', degree=1, gamma='scale', kernel='poly',\n",
            "    max_iter=-1, probability=True, random_state=None, shrinking=True, tol=0.001,\n",
            "    verbose=False)\n",
            "{'shrinking': True, 'probability': True, 'kernel': 'poly', 'gamma': 'scale', 'degree': 1, 'C': 0.5}\n",
            "Hyperparmeter Accuracy: 0.83\n"
          ],
          "name": "stdout"
        }
      ]
    },
    {
      "cell_type": "markdown",
      "metadata": {
        "id": "SxzTirYhY01V"
      },
      "source": [
        "### Different SVM Data Configurations"
      ]
    },
    {
      "cell_type": "code",
      "metadata": {
        "id": "E8z9jxwYw4l4"
      },
      "source": [
        "from sklearn import svm\n",
        "from sklearn.metrics import accuracy_score, confusion_matrix\n",
        "def svm_helper(clf, xtrain, xtest, ytrain, ytest):\n",
        "  clf.fit(xtrain, ytrain)\n",
        "  preds = clf.predict(xtest)\n",
        "  \n",
        "  # get evaluation metrics \n",
        "  score = accuracy_score(ytest, preds)\n",
        "  TN, FP, FN, TP = confusion_matrix(ytest, preds).ravel()\n",
        "  precision = TP/(TP + FP) # sensitivity\n",
        "  recall = TP/(TP + FN) # true positive rate\n",
        "  specificity = TN/(TN + FP)\n",
        "  falsepos = FP/(FP + TN)\n",
        "  print(\"TP =\", str(TP), 'FP =', str(FP), 'FN =', str(FN), 'TN =', str(TN))\n",
        "  print('Precision =', str(precision), 'Recall =', str(recall), 'Specificity =', str(specificity), \"False Positive =\", str(falsepos))\n",
        "  return score"
      ],
      "execution_count": 26,
      "outputs": []
    },
    {
      "cell_type": "code",
      "metadata": {
        "colab": {
          "base_uri": "https://localhost:8080/"
        },
        "id": "y7AOtjbKeeNf",
        "outputId": "73b4e3ab-cdb1-4228-96f6-542456354ae6"
      },
      "source": [
        "# imdb only\n",
        "x_train_imdb, x_valid_imdb, x_test_imdb = tfidf(X_train_imdb, X_valid_imdb, X_test_imdb)\n",
        "score = svm_helper(clf, x_train_imdb, x_test_imdb, y_train_imdb, y_test_imdb)\n",
        "print (\"IMDB only score\", score)"
      ],
      "execution_count": 27,
      "outputs": [
        {
          "output_type": "stream",
          "text": [
            "TP = 42 FP = 15 FN = 8 TN = 35\n",
            "Precision = 0.7368421052631579 Recall = 0.84 Specificity = 0.7 False Positive = 0.3\n",
            "IMDB only score 0.77\n"
          ],
          "name": "stdout"
        }
      ]
    },
    {
      "cell_type": "code",
      "metadata": {
        "colab": {
          "base_uri": "https://localhost:8080/"
        },
        "id": "1o73Dspfwoj8",
        "outputId": "a6608623-046b-495e-9001-28702ac83761"
      },
      "source": [
        "# amazon only\n",
        "x_train_amaz, x_valid_amaz, x_test_amaz = tfidf(X_train_amaz, X_valid_amaz, X_test_amaz)\n",
        "score = svm_helper(clf, x_train_amaz, x_test_amaz, y_train_amaz, y_test_amaz)\n",
        "print (\"Amazon only score\", score)"
      ],
      "execution_count": 28,
      "outputs": [
        {
          "output_type": "stream",
          "text": [
            "TP = 37 FP = 6 FN = 13 TN = 44\n",
            "Precision = 0.8604651162790697 Recall = 0.74 Specificity = 0.88 False Positive = 0.12\n",
            "Amazon only score 0.81\n"
          ],
          "name": "stdout"
        }
      ]
    },
    {
      "cell_type": "code",
      "metadata": {
        "colab": {
          "base_uri": "https://localhost:8080/"
        },
        "id": "05VtXNm1woY6",
        "outputId": "d15874fe-9ede-45b9-841d-118b3996114c"
      },
      "source": [
        "# yelp only\n",
        "x_train_yelp, x_valid_yelp, x_test_yelp = tfidf(X_train_yelp, X_valid_yelp, X_test_yelp)\n",
        "score = svm_helper(clf, x_train_yelp, x_test_yelp, y_train_yelp, y_test_yelp)\n",
        "print (\"Yelp only score\", score)"
      ],
      "execution_count": 29,
      "outputs": [
        {
          "output_type": "stream",
          "text": [
            "TP = 30 FP = 7 FN = 20 TN = 43\n",
            "Precision = 0.8108108108108109 Recall = 0.6 Specificity = 0.86 False Positive = 0.14\n",
            "Yelp only score 0.73\n"
          ],
          "name": "stdout"
        }
      ]
    },
    {
      "cell_type": "code",
      "metadata": {
        "colab": {
          "base_uri": "https://localhost:8080/"
        },
        "id": "cHyTJNF3WlYD",
        "outputId": "cea43d0f-a892-4671-bd29-875a8408843e"
      },
      "source": [
        "# train on imdb, test on others\n",
        "x_test_comb = X_test_amaz + X_test_yelp\n",
        "y_test_comb = y_test_amaz + y_test_yelp\n",
        "x_train_imdb, x_valid_imdb, x_test_comb = tfidf(X_train_imdb, X_valid_imdb, x_test_comb)\n",
        "score = svm_helper(clf, x_train_imdb, x_test_comb, y_train_imdb, y_test_comb)\n",
        "print (\"IMDB train, test on rest\", score)"
      ],
      "execution_count": 30,
      "outputs": [
        {
          "output_type": "stream",
          "text": [
            "TP = 74 FP = 31 FN = 26 TN = 69\n",
            "Precision = 0.7047619047619048 Recall = 0.74 Specificity = 0.69 False Positive = 0.31\n",
            "IMDB train, test on rest 0.715\n"
          ],
          "name": "stdout"
        }
      ]
    },
    {
      "cell_type": "code",
      "metadata": {
        "colab": {
          "base_uri": "https://localhost:8080/"
        },
        "id": "mn4yg_ffWlia",
        "outputId": "6bc4be76-ec60-4624-ca4b-88c18bcd8a0d"
      },
      "source": [
        "# train on amazon, test on others\n",
        "x_test_comb = X_test_yelp + X_test_imdb\n",
        "y_test_comb = y_test_yelp + y_test_imdb\n",
        "x_train_amaz, x_valid_amaz, x_test_comb = tfidf(X_train_amaz, X_valid_amaz, x_test_comb)\n",
        "score = svm_helper(clf, x_train_amaz, x_test_comb, y_train_amaz, y_test_comb)\n",
        "print (\"Amazon train, test on rest\", score)"
      ],
      "execution_count": 31,
      "outputs": [
        {
          "output_type": "stream",
          "text": [
            "TP = 46 FP = 12 FN = 54 TN = 88\n",
            "Precision = 0.7931034482758621 Recall = 0.46 Specificity = 0.88 False Positive = 0.12\n",
            "Amazon train, test on rest 0.67\n"
          ],
          "name": "stdout"
        }
      ]
    },
    {
      "cell_type": "code",
      "metadata": {
        "colab": {
          "base_uri": "https://localhost:8080/"
        },
        "id": "Po78Z1rcWlon",
        "outputId": "0f417509-a5ec-4db7-f2cc-d64ebd7469a1"
      },
      "source": [
        "# train on yelp, test on others\n",
        "x_test_comb = X_test_amaz + X_test_imdb\n",
        "y_test_comb = y_test_amaz + y_test_imdb\n",
        "x_train_yelp, x_valid_yelp, x_test_comb = tfidf(X_train_yelp, X_valid_yelp, x_test_comb)\n",
        "score = svm_helper(clf, x_train_yelp, x_test_comb, y_train_yelp, y_test_comb)\n",
        "print (\"Yelp train, test on rest\", score)"
      ],
      "execution_count": 32,
      "outputs": [
        {
          "output_type": "stream",
          "text": [
            "TP = 49 FP = 10 FN = 51 TN = 90\n",
            "Precision = 0.8305084745762712 Recall = 0.49 Specificity = 0.9 False Positive = 0.1\n",
            "Yelp train, test on rest 0.695\n"
          ],
          "name": "stdout"
        }
      ]
    },
    {
      "cell_type": "markdown",
      "metadata": {
        "id": "Utzy90w84vno"
      },
      "source": [
        "## 2. Naive Bayes"
      ]
    },
    {
      "cell_type": "code",
      "metadata": {
        "colab": {
          "base_uri": "https://localhost:8080/"
        },
        "id": "KhmGb5R09y08",
        "outputId": "53364e5e-d72f-4240-f4f9-8a0eeb99b9ef"
      },
      "source": [
        "# Naive Bayes\n",
        "from sklearn.naive_bayes import GaussianNB\n",
        "\n",
        "model = GaussianNB()\n",
        "model.fit(x_train_features.toarray(), y_train)\n",
        "predictions = model.predict(x_test_features.toarray())\n",
        "# model.fit(x_train_all, y_train)\n",
        "# predictions = model.predict(x_test_all)\n",
        "print(\"Accuracy:\", sklearn.metrics.accuracy_score(y_test, predictions))"
      ],
      "execution_count": 33,
      "outputs": [
        {
          "output_type": "stream",
          "text": [
            "Accuracy: 0.7033333333333334\n"
          ],
          "name": "stdout"
        }
      ]
    },
    {
      "cell_type": "markdown",
      "metadata": {
        "id": "WxsPxGKg6eu6"
      },
      "source": [
        "## 3. Deep Learning\n",
        "\n",
        "Plateauing performance at 0.7 may simply be an architectural problem.\n",
        "\n",
        "### Data Preparation"
      ]
    },
    {
      "cell_type": "code",
      "metadata": {
        "id": "hLCG3Q-TdeOL"
      },
      "source": [
        "import torch\n",
        "import torch.nn as nn\n",
        "import torch.nn.functional as F\n",
        "import torch.optim as optim\n",
        "from torch.autograd import Variable\n",
        "from torch.utils.data import TensorDataset, DataLoader\n",
        "\n",
        "%matplotlib inline\n",
        "import matplotlib.pyplot as plt\n",
        "import numpy as np\n",
        "\n",
        "from tqdm.notebook import tqdm"
      ],
      "execution_count": 34,
      "outputs": []
    },
    {
      "cell_type": "code",
      "metadata": {
        "id": "n4kyCLJEe673"
      },
      "source": [
        "def make_input(review, w2i, max_len):\n",
        "  split = review.split()\n",
        "  padded = np.zeros(max(len(split), max_len)) + w2i['-pad-']\n",
        "  for n, word in enumerate(review.split()):\n",
        "    padded[n] = w2i[word] if word in w2i.keys() else w2i['notinvocab']\n",
        "  return padded"
      ],
      "execution_count": 35,
      "outputs": []
    },
    {
      "cell_type": "code",
      "metadata": {
        "id": "0Tu0zS-cd0zD"
      },
      "source": [
        "def dataloader(xtrain, ytrain, xvalid, yvalid, xtest, ytest, max_len=None):\n",
        "  vocab = set([word for review in xtrain for word in review.split()])\n",
        "  vocab.add('-pad-')\n",
        "  vocab.add('notinvocab')\n",
        "  vocab_size = len(vocab)\n",
        "  print('vocab_size:', vocab_size)\n",
        "\n",
        "  w2i = {w: i for i, w in enumerate(vocab)}\n",
        "  # i2w = {i: w for i, w in enumerate(vocab)}\n",
        "\n",
        "  if not max_len:\n",
        "    max_len = np.max([len(rev.split()) for rev in xtrain])\n",
        "  print('max len:', max_len)\n",
        "\n",
        "  train = TensorDataset(torch.LongTensor([(make_input(rev, w2i, max_len)) for rev in xtrain]), torch.Tensor(ytrain))\n",
        "  valid = TensorDataset(torch.LongTensor([(make_input(rev, w2i, max_len)) for rev in xvalid]), torch.Tensor(yvalid))\n",
        "  test = TensorDataset(torch.LongTensor([(make_input(rev, w2i, max_len)) for rev in xtest]), torch.Tensor(ytest))\n",
        "\n",
        "  trainl = DataLoader(train, batch_size=32, shuffle=True)\n",
        "  validl = DataLoader(valid, batch_size=32, shuffle=True)\n",
        "  testl = DataLoader(test, batch_size=32, shuffle=True)\n",
        "\n",
        "  return trainl, validl, testl, vocab_size"
      ],
      "execution_count": 36,
      "outputs": []
    },
    {
      "cell_type": "markdown",
      "metadata": {
        "id": "onAnbzB44FRV"
      },
      "source": [
        "### Model Training and Visualization"
      ]
    },
    {
      "cell_type": "code",
      "metadata": {
        "id": "Get1DpG16Zvy"
      },
      "source": [
        "class CNN(nn.Module):\n",
        "  def __init__(self, vocab_size, window_size=(1,2,3,5,7,11,13,17,19)):\n",
        "    super(CNN, self).__init__()\n",
        "    self.n_embed = 300\n",
        "    self.n_filters = 100\n",
        "    self.hidden1 = 1000\n",
        "    self.hidden2 = 1000\n",
        "    self.embed = nn.Embedding(vocab_size, self.n_embed)\n",
        "    self.convs = nn.ModuleList([nn.Conv2d(1,self.n_filters,[window,self.n_embed]) for window in window_size])\n",
        "    self.fc1 = nn.Linear(self.n_filters * len(window_size), self.hidden1)\n",
        "    self.fc2 = nn.Linear(self.hidden1, self.hidden2)\n",
        "    self.fc3 = nn.Linear(self.hidden2, 1)\n",
        "    self.relu = nn.ReLU()\n",
        "    self.tanh = torch.tanh\n",
        "    self.leaky = nn.LeakyReLU(0.2)\n",
        "      \n",
        "  def forward(self, x):\n",
        "    embeddings = self.embed(x)\n",
        "    \n",
        "    x = torch.unsqueeze(embeddings, 1)\n",
        "    xs = []\n",
        "    for conv in self.convs:\n",
        "      x2 = self.leaky(conv(x))\n",
        "      x2 = torch.squeeze(x2, -1)\n",
        "      x2 = F.max_pool1d(x2, x2.size(2))\n",
        "      xs.append(x2)\n",
        "    x = torch.cat(xs, 2)\n",
        "\n",
        "    x = x.view(x.size(0), -1)\n",
        "    x = self.fc1(x)\n",
        "    x = self.fc2(x)\n",
        "    x = self.fc3(x)\n",
        "\n",
        "    x = torch.sigmoid(x)\n",
        "\n",
        "    return x"
      ],
      "execution_count": 37,
      "outputs": []
    },
    {
      "cell_type": "code",
      "metadata": {
        "id": "UWG2PqDlCHbd"
      },
      "source": [
        "def eval_cnn(train_loader, valid_loader, vocab_size, cnn=CNN, opt=optim.SGD, lr=0.01, n_epoch=50):\n",
        "  gpu_boole = torch.cuda.is_available()\n",
        "\n",
        "  accs = []\n",
        "  train_losses = []\n",
        "  valid_losses = []\n",
        "  loss_fn = nn.BCELoss()\n",
        "  model = cnn(vocab_size,window_size=(1,3,5,7,13))\n",
        "  # model = CNN(vocab_size)\n",
        "\n",
        "  if gpu_boole:\n",
        "    model = model.cuda()\n",
        "  optimizer = opt(model.parameters(), lr=lr)\n",
        "\n",
        "  for epoch in tqdm(range(n_epoch)):\n",
        "    train_loss = []\n",
        "    model.train()\n",
        "    for n, (x, y) in enumerate(train_loader):\n",
        "      if gpu_boole:\n",
        "        x = x.cuda()\n",
        "        y = y.cuda()\n",
        "\n",
        "      model.zero_grad()\n",
        "      output = model(x)\n",
        "\n",
        "      y = y.view(-1,1)\n",
        "      loss = loss_fn(output, y)\n",
        "      loss.backward()\n",
        "      optimizer.step()\n",
        "      \n",
        "      train_loss.append(loss.item())\n",
        "\n",
        "    \n",
        "    train_losses.append(np.mean(train_loss))\n",
        "\n",
        "    count = 0\n",
        "    total = 0\n",
        "    valid_loss = []\n",
        "    \n",
        "    model.eval()\n",
        "    for x, y in valid_loader:\n",
        "      if gpu_boole:\n",
        "        x = x.cuda()\n",
        "        y = y.cuda()\n",
        "\n",
        "      output = model(x)\n",
        "      pred = (output > 0.5).flatten()\n",
        "      count += (pred == y).sum().item()\n",
        "      total += len(y)\n",
        "\n",
        "      valid_loss.append(loss_fn(output, y.view(-1,1)).item())\n",
        "\n",
        "    accs.append(count/total)\n",
        "    valid_losses.append(np.mean(valid_loss))\n",
        "\n",
        "    # if not (epoch+1) % 50:\n",
        "    #   print('Epoch %d Acc %.1f Train Loss %.3f Valid Loss %.3f' % (epoch+1, count/total*100, train_losses[-1], valid_losses[-1]))\n",
        "\n",
        "  return model, train_losses, valid_losses, accs"
      ],
      "execution_count": 38,
      "outputs": []
    },
    {
      "cell_type": "code",
      "metadata": {
        "id": "2p4hnyb1Cif4"
      },
      "source": [
        "def test(model, test_loader):\n",
        "  gpu_boole = torch.cuda.is_available()\n",
        "  count = 0\n",
        "  total = 0\n",
        "  # model.eval()\n",
        "  for x, y in test_loader:\n",
        "    if gpu_boole:\n",
        "      x = x.cuda()\n",
        "      y = y.cuda()\n",
        "\n",
        "    output = model(x)\n",
        "    pred = (output > 0.5).flatten()\n",
        "    count += (pred == y).sum().item()\n",
        "    total += len(y)\n",
        "  return count/total\n",
        "\n",
        "def test_accs(model, test_loaders):\n",
        "  accs = []\n",
        "  for loader in test_loaders:\n",
        "    accs.append(test(model, loader))\n",
        "  print('accuracy all: %.2f, amaz %.2f, imdb %.2f, yelp %.2f' % tuple(accs))\n",
        "\n",
        "def trainLossPlot(train, valid):\n",
        "  plt.figure()\n",
        "  # fig, ax = plt.subplots()\n",
        "  plt.plot(train, label='train_loss')\n",
        "  plt.plot(valid, label='valid_loss')\n",
        "  plt.title('CNN Losses By Epoch')\n",
        "  plt.legend()\n",
        "\n",
        "def accPlot(accs):\n",
        "  plt.figure()\n",
        "  # fig, ax = plt.subplots()\n",
        "  plt.plot(accs)\n",
        "  plt.plot(np.argmax(accs), np.max(accs), 'ro', label='best acc %.2f at epoch %d'%(np.max(accs), np.argmax(accs)))\n",
        "  plt.legend()\n",
        "  plt.title('CNN Validation Accuracy By Epoch')"
      ],
      "execution_count": 39,
      "outputs": []
    },
    {
      "cell_type": "code",
      "metadata": {
        "colab": {
          "base_uri": "https://localhost:8080/"
        },
        "id": "BqBOGtiFGYJy",
        "outputId": "ad466f91-09a0-4a0d-ac1b-854d3eaeb226"
      },
      "source": [
        "train_all, valid_all, test_all, vocab_size = dataloader(X_train, y_train, X_valid, y_valid, X_test, y_test, max_len=42)\n",
        "train_amaz, valid_amaz, test_amaz, vocab_size_amaz = dataloader(X_train_amaz, y_train_amaz, X_valid_amaz, y_valid_amaz, X_test_amaz, y_test_amaz, max_len=42)\n",
        "train_imdb, valid_imdb, test_imdb, vocab_size_imdb = dataloader(X_train_imdb, y_train_imdb, X_valid_imdb, y_valid_imdb, X_test_imdb, y_test_imdb, max_len=42)\n",
        "train_yelp, valid_yelp, test_yelp, vocab_size_yelp = dataloader(X_train_yelp, y_train_yelp, X_valid_yelp, y_valid_yelp, X_test_yelp, y_test_yelp, max_len=42)\n",
        "tests = [test_all, test_amaz, test_imdb, test_yelp]"
      ],
      "execution_count": 40,
      "outputs": [
        {
          "output_type": "stream",
          "text": [
            "vocab_size: 4276\n",
            "max len: 42\n",
            "vocab_size: 1484\n",
            "max len: 42\n",
            "vocab_size: 2487\n",
            "max len: 42\n",
            "vocab_size: 1610\n",
            "max len: 42\n"
          ],
          "name": "stdout"
        }
      ]
    },
    {
      "cell_type": "code",
      "metadata": {
        "id": "wF_IcGXr3QYF",
        "colab": {
          "base_uri": "https://localhost:8080/",
          "height": 594,
          "referenced_widgets": [
            "4e26a56622ed49ec8a5416119e3ffa26",
            "b23276565b804e8786ae90ed18b117bb",
            "bb054c2cf9e34685a6e1035fe105cbcc",
            "b8ff1e0bfd9b473190f773a9637ec573",
            "f8441aaff2e7459d95b8dea61b58d579",
            "398f04e5b79645fdb09c3283b6e709d2",
            "fc801d34eb584c1786cefd73a2d74eae",
            "ade9002744d34f1bab5769befcda9dae"
          ]
        },
        "outputId": "b560caaa-3a45-4975-bb64-eaa58dc8df13"
      },
      "source": [
        "# all\n",
        "model, train_loss, valid_loss, accuracy = eval_cnn(train_all, valid_all, vocab_size, opt=optim.Adadelta, lr=0.001, n_epoch=500)\n",
        "trainLossPlot(train_loss, valid_loss)\n",
        "accPlot(accuracy)\n",
        "# test_accs(model, tests)"
      ],
      "execution_count": 41,
      "outputs": [
        {
          "output_type": "display_data",
          "data": {
            "application/vnd.jupyter.widget-view+json": {
              "model_id": "4e26a56622ed49ec8a5416119e3ffa26",
              "version_minor": 0,
              "version_major": 2
            },
            "text/plain": [
              "HBox(children=(FloatProgress(value=0.0, max=500.0), HTML(value='')))"
            ]
          },
          "metadata": {
            "tags": []
          }
        },
        {
          "output_type": "stream",
          "text": [
            "\n"
          ],
          "name": "stdout"
        },
        {
          "output_type": "display_data",
          "data": {
            "image/png": "[encoded data removed]",
            "text/plain": [
              "<Figure size 432x288 with 1 Axes>"
            ]
          },
          "metadata": {
            "tags": [],
            "needs_background": "light"
          }
        },
        {
          "output_type": "display_data",
          "data": {
            "image/png": "[encoded data removed]",
            "text/plain": [
              "<Figure size 432x288 with 1 Axes>"
            ]
          },
          "metadata": {
            "tags": [],
            "needs_background": "light"
          }
        }
      ]
    },
    {
      "cell_type": "code",
      "metadata": {
        "id": "NJNRglb7BKVn",
        "colab": {
          "base_uri": "https://localhost:8080/",
          "height": 594,
          "referenced_widgets": [
            "2553bc98d41c42619a2bc92b09c4889f",
            "5e8deca41f8f41f69f031345a441f9d0",
            "835a0f8af1174b2cb607a5b55391372a",
            "79ebfffbc15b4749a18c5fbea62c7af7",
            "9618953060e64099a0f18ebc56c237ed",
            "4996a8319ac0448b8885c98b4daa338a",
            "0e06862817bf47fc95690f8911d18a70",
            "b507b1785be14337926fe709a69ee6f0"
          ]
        },
        "outputId": "9e35ec3e-4cf3-437a-fc4b-5336a0184dfc"
      },
      "source": [
        "# amazon only\n",
        "model_amaz, train_loss_amaz, valid_loss_amaz, accuracy_amaz = eval_cnn(train_amaz, valid_amaz, vocab_size_amaz, opt=optim.Adadelta, lr=0.001, n_epoch=500)\n",
        "trainLossPlot(train_loss_amaz, valid_loss_amaz)\n",
        "accPlot(accuracy_amaz)\n",
        "# test_accs(model_amaz, tests)"
      ],
      "execution_count": 42,
      "outputs": [
        {
          "output_type": "display_data",
          "data": {
            "application/vnd.jupyter.widget-view+json": {
              "model_id": "2553bc98d41c42619a2bc92b09c4889f",
              "version_minor": 0,
              "version_major": 2
            },
            "text/plain": [
              "HBox(children=(FloatProgress(value=0.0, max=500.0), HTML(value='')))"
            ]
          },
          "metadata": {
            "tags": []
          }
        },
        {
          "output_type": "stream",
          "text": [
            "\n"
          ],
          "name": "stdout"
        },
        {
          "output_type": "display_data",
          "data": {
            "image/png": "[encoded data removed]",
            "text/plain": [
              "<Figure size 432x288 with 1 Axes>"
            ]
          },
          "metadata": {
            "tags": [],
            "needs_background": "light"
          }
        },
        {
          "output_type": "display_data",
          "data": {
            "image/png": "[encoded data removed]",
            "text/plain": [
              "<Figure size 432x288 with 1 Axes>"
            ]
          },
          "metadata": {
            "tags": [],
            "needs_background": "light"
          }
        }
      ]
    },
    {
      "cell_type": "code",
      "metadata": {
        "id": "AqN8vtpHBfYr",
        "colab": {
          "base_uri": "https://localhost:8080/",
          "height": 594,
          "referenced_widgets": [
            "b9021b668408495ca16606a78582c070",
            "d9796b64d1d34aa4b7ee0bed06a7d93b",
            "b239f1cd17214c12833f34a2fb456205",
            "e3d0145f42eb4fb682e3735bd79b6155",
            "53983cc06db245348a71fdf6eb739a91",
            "a06bb8eb70c64f02b6d1e061f5949be7",
            "4da02e7896354071830e1fb3ed20f2bb",
            "a3bfc951ad034698b2dea5f748b3480f"
          ]
        },
        "outputId": "b474823a-e5dd-4806-a42f-6300c27e9f1c"
      },
      "source": [
        "# imdb only\n",
        "model_imdb, train_loss_imdb, valid_loss_imdb, accuracy_imdb = eval_cnn(train_imdb, valid_imdb, vocab_size_imdb, opt=optim.Adadelta, lr=0.001, n_epoch=500)\n",
        "trainLossPlot(train_loss_imdb, valid_loss_imdb)\n",
        "accPlot(accuracy_imdb)\n",
        "# test_accs(model_imdb, tests)"
      ],
      "execution_count": 43,
      "outputs": [
        {
          "output_type": "display_data",
          "data": {
            "application/vnd.jupyter.widget-view+json": {
              "model_id": "b9021b668408495ca16606a78582c070",
              "version_minor": 0,
              "version_major": 2
            },
            "text/plain": [
              "HBox(children=(FloatProgress(value=0.0, max=500.0), HTML(value='')))"
            ]
          },
          "metadata": {
            "tags": []
          }
        },
        {
          "output_type": "stream",
          "text": [
            "\n"
          ],
          "name": "stdout"
        },
        {
          "output_type": "display_data",
          "data": {
            "image/png": "[encoded data removed]",
            "text/plain": [
              "<Figure size 432x288 with 1 Axes>"
            ]
          },
          "metadata": {
            "tags": [],
            "needs_background": "light"
          }
        },
        {
          "output_type": "display_data",
          "data": {
            "image/png": "[encoded data removed]",
            "text/plain": [
              "<Figure size 432x288 with 1 Axes>"
            ]
          },
          "metadata": {
            "tags": [],
            "needs_background": "light"
          }
        }
      ]
    },
    {
      "cell_type": "code",
      "metadata": {
        "id": "Wvcv_kdIBfra",
        "colab": {
          "base_uri": "https://localhost:8080/",
          "height": 594,
          "referenced_widgets": [
            "35195bc7448444919f05346ddf16fdc5",
            "076c7b9bf2974384ac8291215de9f0e8",
            "280fd32c55254a37bd723e44bc0667fb",
            "0d5891d1a4d24a57883fc58adcb00c73",
            "35f959c413064ffabb419f21d0dcbcc6",
            "063f5d8b1c454a7c9598758aa4e21e43",
            "bf14507efbd44420943b8cde6f3feb05",
            "2ae60546c9234d919baaba4cc280c78c"
          ]
        },
        "outputId": "54865264-10b0-4b80-cdf1-8dec66433ae6"
      },
      "source": [
        "# yelp only\n",
        "model_yelp, train_loss_yelp, valid_loss_yelp, accuracy_yelp = eval_cnn(train_yelp, valid_yelp, vocab_size_yelp, opt=optim.Adadelta, lr=0.001, n_epoch=500)\n",
        "trainLossPlot(train_loss_yelp, valid_loss_yelp)\n",
        "accPlot(accuracy_yelp)\n",
        "# test_accs(model_yelp, tests)"
      ],
      "execution_count": 44,
      "outputs": [
        {
          "output_type": "display_data",
          "data": {
            "application/vnd.jupyter.widget-view+json": {
              "model_id": "35195bc7448444919f05346ddf16fdc5",
              "version_minor": 0,
              "version_major": 2
            },
            "text/plain": [
              "HBox(children=(FloatProgress(value=0.0, max=500.0), HTML(value='')))"
            ]
          },
          "metadata": {
            "tags": []
          }
        },
        {
          "output_type": "stream",
          "text": [
            "\n"
          ],
          "name": "stdout"
        },
        {
          "output_type": "display_data",
          "data": {
            "image/png": "[encoded data removed]",
            "text/plain": [
              "<Figure size 432x288 with 1 Axes>"
            ]
          },
          "metadata": {
            "tags": [],
            "needs_background": "light"
          }
        },
        {
          "output_type": "display_data",
          "data": {
            "image/png": "[encoded data removed]",
            "text/plain": [
              "<Figure size 432x288 with 1 Axes>"
            ]
          },
          "metadata": {
            "tags": [],
            "needs_background": "light"
          }
        }
      ]
    },
    {
      "cell_type": "markdown",
      "metadata": {
        "id": "-qELWEbBpVIx"
      },
      "source": [
        "### Architecture Improvement"
      ]
    },
    {
      "cell_type": "code",
      "metadata": {
        "id": "5l1KvaXxLFD1"
      },
      "source": [
        "class simpleCNN(nn.Module):\r\n",
        "  def __init__(self, vocab_size, window_size=(1,2,3,5,7,11,13,17,19)):\r\n",
        "    super(simpleCNN, self).__init__()\r\n",
        "    self.n_embed = 500\r\n",
        "    self.n_filters = 10\r\n",
        "    self.hidden1 = 100\r\n",
        "    # self.hidden2 = 50\r\n",
        "    self.embed = nn.Embedding(vocab_size, self.n_embed)\r\n",
        "    self.convs = nn.ModuleList([nn.Conv2d(1,self.n_filters,[window,self.n_embed]) for window in window_size])\r\n",
        "    self.fc1 = nn.Linear(self.n_filters * len(window_size), self.hidden1)\r\n",
        "    # self.fc2 = nn.Linear(self.hidden1, self.hidden2)\r\n",
        "    self.output = nn.Linear(self.hidden1, 1)\r\n",
        "    self.relu = nn.ReLU()\r\n",
        "    self.tanh = torch.tanh\r\n",
        "    self.leaky = nn.LeakyReLU(0.2)\r\n",
        "      \r\n",
        "  def forward(self, x):\r\n",
        "    embeddings = self.embed(x)\r\n",
        "    \r\n",
        "    x = torch.unsqueeze(embeddings, 1)\r\n",
        "    xs = []\r\n",
        "    for conv in self.convs:\r\n",
        "      x2 = self.leaky(conv(x))\r\n",
        "      x2 = torch.squeeze(x2, -1)\r\n",
        "      x2 = F.max_pool1d(x2, x2.size(2))\r\n",
        "      xs.append(x2)\r\n",
        "    x = torch.cat(xs, 2)\r\n",
        "\r\n",
        "    x = x.view(x.size(0), -1)\r\n",
        "    x = self.fc1(x)\r\n",
        "    # x = self.fc2(x)\r\n",
        "    x = self.output(x)\r\n",
        "\r\n",
        "    x = torch.sigmoid(x)\r\n",
        "\r\n",
        "    return x"
      ],
      "execution_count": 45,
      "outputs": []
    },
    {
      "cell_type": "code",
      "metadata": {
        "id": "EFrktgQ8z3A5",
        "colab": {
          "base_uri": "https://localhost:8080/",
          "height": 594,
          "referenced_widgets": [
            "26187ec0c8c54648a706c07ab58b7d9b",
            "a3804982b9c245538c4a2f724a965cca",
            "57421a43f5cc4de3ae3b554e5a3f124a",
            "740ecb011af54b5391292b426d052fd2",
            "6cc81cc49b404955a40bfb298b337522",
            "93cc8c908f0744ef9b6d53cd0017fba0",
            "de6a8e53622c47fabee0b96a016c7ef1",
            "4e8484a66c994b0db7c64840f275fa8a"
          ]
        },
        "outputId": "3b1d6696-2b25-43c0-e60b-6e247f86c654"
      },
      "source": [
        "# all\r\n",
        "model, train_loss, valid_loss, accuracy = eval_cnn(train_all, valid_all, vocab_size, cnn=simpleCNN, opt=optim.Adadelta, lr=0.001, n_epoch=500)\r\n",
        "trainLossPlot(train_loss, valid_loss)\r\n",
        "accPlot(accuracy)\r\n",
        "# test_accs(model, tests)"
      ],
      "execution_count": 46,
      "outputs": [
        {
          "output_type": "display_data",
          "data": {
            "application/vnd.jupyter.widget-view+json": {
              "model_id": "26187ec0c8c54648a706c07ab58b7d9b",
              "version_minor": 0,
              "version_major": 2
            },
            "text/plain": [
              "HBox(children=(FloatProgress(value=0.0, max=500.0), HTML(value='')))"
            ]
          },
          "metadata": {
            "tags": []
          }
        },
        {
          "output_type": "stream",
          "text": [
            "\n"
          ],
          "name": "stdout"
        },
        {
          "output_type": "display_data",
          "data": {
            "image/png": "[encoded data removed]",
            "text/plain": [
              "<Figure size 432x288 with 1 Axes>"
            ]
          },
          "metadata": {
            "tags": [],
            "needs_background": "light"
          }
        },
        {
          "output_type": "display_data",
          "data": {
            "image/png": "[encoded data removed]",
            "text/plain": [
              "<Figure size 432x288 with 1 Axes>"
            ]
          },
          "metadata": {
            "tags": [],
            "needs_background": "light"
          }
        }
      ]
    },
    {
      "cell_type": "markdown",
      "metadata": {
        "id": "LjZ3L7-F4oIY"
      },
      "source": [
        "# Analysis\n",
        "\n"
      ]
    },
    {
      "cell_type": "markdown",
      "metadata": {
        "id": "CIeYnQeRsbGY"
      },
      "source": [
        "## LIWC"
      ]
    },
    {
      "cell_type": "code",
      "metadata": {
        "id": "GHifAXTN2jbr"
      },
      "source": [
        "'''\n",
        "Created on Apr 5, 2013\n",
        "\n",
        "@author: luamct\n",
        "Provided by Zach Wood-Doughty\n",
        "'''\n",
        "import os\n",
        "import numpy as np\n",
        "\n",
        "\n",
        "class LIWC():\n",
        "\n",
        "\tdef __init__(self):\n",
        "\t\t\n",
        "\t\tself.dimensions = {}\n",
        "\t\tself.names = []\n",
        "\t\t\n",
        "\t\t# Words and their associated dimensions\n",
        "\t\tself.entries = []\n",
        "\t\t\n",
        "\t\t# Cache for entries already found or entries with no * at the end (which can \n",
        "\t\t# be retrieve in a O(1) hash operation)\n",
        "\t\tself.cache = {}\n",
        "\n",
        "\t\t# liwc_path = os.path.dirname(__file__) + \"/liwc2007.dic\"\n",
        "\t\t# if not os.path.exists(liwc_path):\n",
        "\t\t# \traise FileNotFoundError(\"Could not find LIWC dictionary path: {}\".format(liwc_path))\n",
        "    # liwc_path = \"/content/liwc2007.dic\"\n",
        "\t\t_file = open(\"/content/liwc2007.dic\",'r') # HARDCODE\n",
        "\n",
        "\t\t# First read dimensions\n",
        "\t\tfor line in _file:\n",
        "\t\t\tif line.strip()=='%' : break\n",
        "\t\t\t\n",
        "\t\t\t# Get the index, ignore the name\n",
        "\t\t\tdim_id, dim_name = line.split()\n",
        "\n",
        "\t\t\tself.dimensions[dim_id] = len(self.dimensions)\n",
        "\t\t\tself.names.append(dim_name)\n",
        "\n",
        "\t\t# Now read word dictionary\n",
        "\t\tfor line in _file:\n",
        "\t\t\tword_and_dims = line.split()\n",
        "\t\t\tword = word_and_dims[0]\n",
        "\t\t\tdims = word_and_dims[1:]\n",
        "\t\t\t\n",
        "\t\t\tif (word[-1] != '*') :\n",
        "\t\t\t\tself.cache[word] = dims\n",
        "\t\t\telse :\n",
        "\t\t\t\tself.entries.append( (word, dims) ) \n",
        "\n",
        "\t\t_file.close()\n",
        "\n",
        "\n",
        "\tdef matches(self, word, entry) :\n",
        "\t\treturn word.startswith(entry[:-1])\n",
        "\n",
        "\n",
        "\tdef add(self, count, dimensions) :\n",
        "\t\t\n",
        "\t\t# Get the dimension index and increment\n",
        "\t\tfor dim_id in dimensions:\n",
        "\t\t\tdim_index = self.dimensions[dim_id]\n",
        "\t\t\tcount[dim_index] += 1\n",
        "\n",
        "\n",
        "\t# Have to iterate through every word because there are also regular expressions,\n",
        "\t# otherwise we could have used a set or hashset structure for efficiency\n",
        "\tdef search(self, word):\n",
        "\t\tfor entry, dimensions in self.entries :\n",
        "\t\t\tif self.matches(word, entry) :\n",
        "\t\t\t\treturn dimensions\n",
        "\n",
        "\t\treturn None\n",
        "\n",
        "\n",
        "\tdef binary(self, word):\n",
        "\t\treturn self._binary_(word, 0, len(self.entries))\n",
        "\n",
        "\n",
        "\tdef _binary_(self, word, s, e) :\n",
        "\t\tif s >= e : return None\n",
        "\n",
        "\t\tm  = int((s+e)/2)\n",
        "\t\tif m < len(self.entries):\n",
        "\t\t\tmword = self.entries[m][0][:-1] # Remove * at the end\n",
        "\t\t\t# Matched\n",
        "\t\t\tif word.startswith(mword) : return self.entries[m][1]\n",
        "\t\t\t\n",
        "\t\t\t# Search in the right partition\n",
        "\t\t\tif word < mword : return self._binary_(word, s, m)\n",
        "\t\t\tif word > mword :\treturn self._binary_(word, m+1, e)\n",
        "\t\treturn None\n",
        "\n",
        "\t\n",
        "\n",
        "\tdef classify(self, words):\n",
        "\t\t\n",
        "\t\t# Counts the occurrence of each dimension in the input words\n",
        "\t\t# Use 2 extra positions for the total of words considered and the\n",
        "\t\t# total of words successfully matched in the LIWC dictionary\n",
        "\t\tcount = np.zeros(len(self.dimensions), dtype=int)\n",
        "\t\ttokens_matched=0\n",
        "\t\tfor word in words:\n",
        "\t\t\t# If not in cache, look for it and add it if found\n",
        "\t\t\tif word not in self.cache :\n",
        "\t\t\t\tdimensions = self.binary(word)\n",
        "\t\t\t\tif dimensions != None :\n",
        "\t\t\t\t\tself.cache[word] = dimensions\n",
        "\n",
        "\t\t\t# If still not in cache then it's not in the LIWC dictionary\n",
        "\t\t\tif word in self.cache :\n",
        "\t\t\t\tself.add(count, self.cache[word])\n",
        "\t\t\t\ttokens_matched += 1\n",
        "\n",
        "\t\treturn (len(words), tokens_matched, count)\n",
        "\n",
        "\n",
        "\tdef readable(self, dim_count) :\n",
        "\t\tcount = {}\n",
        "\t\tfor i in range(len(dim_count)) :\n",
        "\t\t\tif dim_count[i] != 0 :\n",
        "\t\t\t\tcount[self.names[i]] = dim_count[i]\n",
        "\t\treturn count\n"
      ],
      "execution_count": 48,
      "outputs": []
    },
    {
      "cell_type": "code",
      "metadata": {
        "id": "ndepmipm2syp"
      },
      "source": [
        "def liwc_calc(text):\n",
        "  L = LIWC()\n",
        "  length, matched, labels = L.classify(text.split())\n",
        "  return(L.readable(labels))"
      ],
      "execution_count": 49,
      "outputs": []
    },
    {
      "cell_type": "code",
      "metadata": {
        "id": "vgUKAPIrTkEs"
      },
      "source": [
        "def aggregate(data):\n",
        "  res = ''\n",
        "  for i in range(len(data)):\n",
        "    res += data[i]\n",
        "    res += ' '\n",
        "  return res"
      ],
      "execution_count": 50,
      "outputs": []
    },
    {
      "cell_type": "code",
      "metadata": {
        "id": "Osy2DaAXTwYi",
        "colab": {
          "base_uri": "https://localhost:8080/"
        },
        "outputId": "1a4af0ec-a512-4c25-b0f9-d34551a27d74"
      },
      "source": [
        "amazon_all = aggregate(X['amazon'])\n",
        "imdb_all = aggregate(X['imdb'])\n",
        "yelp_all = aggregate(X['yelp'])\n",
        "all_aggregate = aggregate(X['all'])\n",
        "\n",
        "print(liwc_calc(amazon_all))\n",
        "print(liwc_calc(imdb_all))\n",
        "print(liwc_calc(yelp_all))\n",
        "print(liwc_calc(all_aggregate))\n",
        "\n",
        "example = liwc_calc(aggregate(X['imdb'][5]))\n",
        "print(liwc_calc(aggregate(X['imdb'][5])))\n",
        "print(X['imdb'][5])\n",
        "print(example['funct'])\n",
        "\n"
      ],
      "execution_count": 51,
      "outputs": [
        {
          "output_type": "stream",
          "text": [
            "{'funct': 4510, 'pronoun': 790, 'ppron': 279, 'i': 163, 'we': 2, 'you': 85, 'shehe': 5, 'they': 24, 'ipron': 511, 'article': 640, 'verb': 1190, 'auxverb': 808, 'past': 320, 'present': 745, 'future': 63, 'adverb': 420, 'preps': 999, 'conj': 554, 'negate': 198, 'quant': 283, 'number': 72, 'swear': 3, 'social': 487, 'family': 10, 'friend': 4, 'humans': 13, 'affect': 588, 'posemo': 411, 'negemo': 177, 'anx': 19, 'anger': 19, 'sad': 55, 'cogmech': 1402, 'insight': 99, 'cause': 194, 'discrep': 148, 'tentat': 158, 'certain': 119, 'inhib': 53, 'incl': 473, 'excl': 230, 'percept': 275, 'see': 73, 'hear': 134, 'feel': 56, 'bio': 95, 'body': 47, 'health': 20, 'sexual': 21, 'ingest': 7, 'relativ': 917, 'motion': 121, 'space': 406, 'time': 365, 'work': 234, 'achieve': 267, 'leisure': 49, 'home': 12, 'money': 174, 'relig': 3, 'death': 4, 'assent': 10, 'nonfl': 18}\n",
            "{'funct': 6549, 'pronoun': 1064, 'ppron': 326, 'i': 64, 'we': 22, 'you': 91, 'shehe': 97, 'they': 52, 'ipron': 738, 'article': 1113, 'verb': 1641, 'auxverb': 1130, 'past': 500, 'present': 960, 'future': 83, 'adverb': 644, 'preps': 1529, 'conj': 794, 'negate': 218, 'quant': 408, 'number': 112, 'swear': 14, 'social': 643, 'family': 15, 'friend': 6, 'humans': 64, 'affect': 1044, 'posemo': 660, 'negemo': 382, 'anx': 67, 'anger': 103, 'sad': 69, 'cogmech': 2012, 'insight': 241, 'cause': 212, 'discrep': 147, 'tentat': 300, 'certain': 248, 'inhib': 43, 'incl': 600, 'excl': 304, 'percept': 332, 'see': 189, 'hear': 68, 'feel': 56, 'bio': 117, 'body': 47, 'health': 38, 'sexual': 31, 'ingest': 5, 'relativ': 1135, 'motion': 143, 'space': 598, 'time': 371, 'work': 165, 'achieve': 253, 'leisure': 603, 'home': 24, 'money': 82, 'relig': 34, 'death': 16, 'assent': 18, 'nonfl': 17}\n",
            "{'funct': 4834, 'pronoun': 711, 'ppron': 363, 'i': 73, 'we': 101, 'you': 81, 'shehe': 34, 'they': 74, 'ipron': 348, 'article': 661, 'verb': 1514, 'auxverb': 1094, 'past': 682, 'present': 633, 'future': 96, 'adverb': 534, 'preps': 941, 'conj': 640, 'negate': 244, 'quant': 254, 'number': 71, 'swear': 7, 'social': 563, 'family': 22, 'friend': 47, 'humans': 26, 'affect': 685, 'posemo': 509, 'negemo': 176, 'anx': 22, 'anger': 50, 'sad': 48, 'cogmech': 1475, 'insight': 122, 'cause': 74, 'discrep': 129, 'tentat': 164, 'certain': 171, 'inhib': 43, 'incl': 573, 'excl': 269, 'percept': 302, 'see': 50, 'hear': 36, 'feel': 80, 'bio': 506, 'body': 32, 'health': 27, 'sexual': 30, 'ingest': 419, 'relativ': 1142, 'motion': 176, 'space': 528, 'time': 405, 'work': 172, 'achieve': 116, 'leisure': 121, 'home': 47, 'money': 92, 'relig': 3, 'death': 4, 'assent': 21, 'nonfl': 7}\n",
            "{'funct': 15893, 'pronoun': 2565, 'ppron': 968, 'i': 300, 'we': 125, 'you': 257, 'shehe': 136, 'they': 150, 'ipron': 1597, 'article': 2414, 'verb': 4345, 'auxverb': 3032, 'past': 1502, 'present': 2338, 'future': 242, 'adverb': 1598, 'preps': 3469, 'conj': 1988, 'negate': 660, 'quant': 945, 'number': 255, 'swear': 24, 'social': 1693, 'family': 47, 'friend': 57, 'humans': 103, 'affect': 2317, 'posemo': 1580, 'negemo': 735, 'anx': 108, 'anger': 172, 'sad': 172, 'cogmech': 4889, 'insight': 462, 'cause': 480, 'discrep': 424, 'tentat': 622, 'certain': 538, 'inhib': 139, 'incl': 1646, 'excl': 803, 'percept': 909, 'see': 312, 'hear': 238, 'feel': 192, 'bio': 718, 'body': 126, 'health': 85, 'sexual': 82, 'ingest': 431, 'relativ': 3194, 'motion': 440, 'space': 1532, 'time': 1141, 'work': 571, 'achieve': 636, 'leisure': 773, 'home': 83, 'money': 348, 'relig': 40, 'death': 24, 'assent': 49, 'nonfl': 42}\n",
            "{'funct': 12, 'pronoun': 6, 'ppron': 6, 'i': 6, 'article': 6}\n",
            "The rest of the movie lacks art, charm, meaning... If it's about emptiness, it works I guess because it's empty.\n",
            "12\n"
          ],
          "name": "stdout"
        }
      ]
    },
    {
      "cell_type": "code",
      "metadata": {
        "id": "rlMo7cd-zt9p",
        "colab": {
          "base_uri": "https://localhost:8080/"
        },
        "outputId": "b52ab7aa-e00d-405f-b4bb-0ef628e92c60"
      },
      "source": [
        "#Run Liwc on the imdb dataset with every other word deleted and the svm results\r\n",
        "imdb_deleted = []\r\n",
        "for i in range(len(X_clean['imdb'])):\r\n",
        "  reviews = X_clean['imdb'][i].split()\r\n",
        "  del reviews[2 - 1::2]\r\n",
        "  imdb_deleted.append(' '.join(reviews))\r\n",
        "\r\n",
        "X_deleted_train, X_deleted_test, y_deleted_train, y_deleted_test = train_test_split(imdb_deleted, y['imdb'], test_size=0.2, random_state=rand_state)\r\n",
        "X_deleted_valid, X_deleted_test, y_deleted_valid, y_deleted_test = train_test_split(X_test_imdb, y_test_imdb, test_size=0.5, stratify=y_test_imdb, random_state=rand_state)\r\n",
        "x_train_deleted, x_valid_deleted, x_test_deleted = tfidf(X_deleted_train, X_deleted_valid, X_deleted_test)\r\n",
        "score = svm_helper(clf, x_train_deleted, x_test_deleted, y_deleted_train, y_deleted_test)\r\n",
        "print (\"IMDB every other word is deleted score\", score)\r\n",
        "\r\n",
        "print()\r\n",
        "\r\n",
        "x_train_imdb, x_valid_imdb, x_test_imdb = tfidf(X_train_imdb, X_valid_imdb, X_test_imdb)\r\n",
        "score = svm_helper(clf, x_train_imdb, x_test_imdb, y_train_imdb, y_test_imdb)\r\n",
        "print (\"IMDB normal score\", score)\r\n",
        "\r\n",
        "print()\r\n",
        "\r\n",
        "imdb_all = aggregate(X_clean['imdb'])\r\n",
        "imdb_deleted_aggregate = aggregate(imdb_deleted)\r\n",
        "\r\n",
        "print(liwc_calc(imdb_deleted_aggregate))\r\n",
        "print(liwc_calc(imdb_all))\r\n"
      ],
      "execution_count": 52,
      "outputs": [
        {
          "output_type": "stream",
          "text": [
            "TP = 20 FP = 4 FN = 5 TN = 21\n",
            "Precision = 0.8333333333333334 Recall = 0.8 Specificity = 0.84 False Positive = 0.16\n",
            "IMDB every other word is deleted score 0.82\n",
            "\n",
            "TP = 42 FP = 15 FN = 8 TN = 35\n",
            "Precision = 0.7368421052631579 Recall = 0.84 Specificity = 0.7 False Positive = 0.3\n",
            "IMDB normal score 0.77\n",
            "\n",
            "{'funct': 554, 'pronoun': 60, 'ppron': 3, 'i': 1, 'we': 1, 'shehe': 1, 'ipron': 57, 'verb': 350, 'auxverb': 46, 'past': 135, 'present': 179, 'future': 18, 'adverb': 203, 'preps': 27, 'conj': 34, 'negate': 28, 'quant': 137, 'number': 76, 'swear': 12, 'social': 212, 'family': 15, 'friend': 3, 'humans': 40, 'affect': 651, 'posemo': 395, 'negemo': 254, 'anx': 37, 'anger': 67, 'sad': 40, 'cogmech': 623, 'insight': 131, 'cause': 74, 'discrep': 56, 'tentat': 115, 'certain': 147, 'inhib': 24, 'incl': 19, 'excl': 43, 'percept': 201, 'see': 126, 'hear': 34, 'feel': 34, 'bio': 77, 'body': 32, 'health': 25, 'sexual': 20, 'ingest': 4, 'relativ': 441, 'motion': 91, 'space': 114, 'time': 219, 'work': 102, 'achieve': 162, 'leisure': 346, 'home': 16, 'money': 49, 'relig': 24, 'death': 9, 'assent': 18, 'nonfl': 13, 'filler': 1}\n",
            "{'funct': 1006, 'pronoun': 95, 'ppron': 4, 'i': 1, 'we': 2, 'shehe': 1, 'ipron': 91, 'verb': 684, 'auxverb': 91, 'past': 256, 'present': 354, 'future': 42, 'adverb': 351, 'preps': 54, 'conj': 60, 'negate': 48, 'quant': 276, 'number': 133, 'swear': 30, 'social': 412, 'family': 24, 'friend': 9, 'humans': 81, 'affect': 1248, 'posemo': 758, 'negemo': 486, 'anx': 80, 'anger': 127, 'sad': 73, 'cogmech': 1134, 'insight': 259, 'cause': 161, 'discrep': 119, 'tentat': 186, 'certain': 250, 'inhib': 48, 'incl': 36, 'excl': 67, 'percept': 384, 'see': 227, 'hear': 75, 'feel': 62, 'bio': 153, 'body': 58, 'health': 51, 'sexual': 39, 'ingest': 10, 'relativ': 827, 'motion': 165, 'space': 218, 'time': 404, 'work': 187, 'achieve': 294, 'leisure': 658, 'home': 29, 'money': 91, 'relig': 46, 'death': 19, 'assent': 30, 'nonfl': 33, 'filler': 1}\n"
          ],
          "name": "stdout"
        }
      ]
    },
    {
      "cell_type": "markdown",
      "metadata": {
        "id": "poYTf07umiu4"
      },
      "source": [
        "## Normalizing LIWC Results"
      ]
    },
    {
      "cell_type": "code",
      "metadata": {
        "id": "_CBs4ci8u1VC",
        "colab": {
          "base_uri": "https://localhost:8080/"
        },
        "outputId": "e1fb4014-18fa-467b-adb5-4e5c96854234"
      },
      "source": [
        "# Normalizing LIWC results\r\n",
        "\r\n",
        "def normalize_liwc(liwc_dict):\r\n",
        "  max_key = max(liwc_dict, key=liwc_dict.get)\r\n",
        "  max_val = liwc_dict[max_key]\r\n",
        "  for key, value in liwc_dict.items():\r\n",
        "    liwc_dict[key] /= max_val\r\n",
        "  return liwc_dict\r\n",
        "  \r\n",
        "liwc_amazon = liwc_calc(amazon_all)\r\n",
        "liwc_imdb = liwc_calc(imdb_all)\r\n",
        "liwc_yelp = liwc_calc(yelp_all)\r\n",
        "liwc_all = liwc_calc(all_aggregate)\r\n",
        "\r\n",
        "print(liwc_amazon)\r\n",
        "print(normalize_liwc(liwc_amazon))\r\n"
      ],
      "execution_count": 53,
      "outputs": [
        {
          "output_type": "stream",
          "text": [
            "{'funct': 4510, 'pronoun': 790, 'ppron': 279, 'i': 163, 'we': 2, 'you': 85, 'shehe': 5, 'they': 24, 'ipron': 511, 'article': 640, 'verb': 1190, 'auxverb': 808, 'past': 320, 'present': 745, 'future': 63, 'adverb': 420, 'preps': 999, 'conj': 554, 'negate': 198, 'quant': 283, 'number': 72, 'swear': 3, 'social': 487, 'family': 10, 'friend': 4, 'humans': 13, 'affect': 588, 'posemo': 411, 'negemo': 177, 'anx': 19, 'anger': 19, 'sad': 55, 'cogmech': 1402, 'insight': 99, 'cause': 194, 'discrep': 148, 'tentat': 158, 'certain': 119, 'inhib': 53, 'incl': 473, 'excl': 230, 'percept': 275, 'see': 73, 'hear': 134, 'feel': 56, 'bio': 95, 'body': 47, 'health': 20, 'sexual': 21, 'ingest': 7, 'relativ': 917, 'motion': 121, 'space': 406, 'time': 365, 'work': 234, 'achieve': 267, 'leisure': 49, 'home': 12, 'money': 174, 'relig': 3, 'death': 4, 'assent': 10, 'nonfl': 18}\n",
            "{'funct': 1.0, 'pronoun': 0.17516629711751663, 'ppron': 0.06186252771618625, 'i': 0.03614190687361419, 'we': 0.0004434589800443459, 'you': 0.018847006651884702, 'shehe': 0.0011086474501108647, 'they': 0.005321507760532151, 'ipron': 0.11330376940133037, 'article': 0.1419068736141907, 'verb': 0.2638580931263858, 'auxverb': 0.17915742793791575, 'past': 0.07095343680709534, 'present': 0.16518847006651885, 'future': 0.013968957871396896, 'adverb': 0.09312638580931264, 'preps': 0.22150776053215077, 'conj': 0.12283813747228381, 'negate': 0.04390243902439024, 'quant': 0.06274944567627494, 'number': 0.015964523281596452, 'swear': 0.0006651884700665188, 'social': 0.10798226164079823, 'family': 0.0022172949002217295, 'friend': 0.0008869179600886918, 'humans': 0.0028824833702882483, 'affect': 0.1303769401330377, 'posemo': 0.09113082039911308, 'negemo': 0.03924611973392461, 'anx': 0.0042128603104212865, 'anger': 0.0042128603104212865, 'sad': 0.012195121951219513, 'cogmech': 0.31086474501108646, 'insight': 0.02195121951219512, 'cause': 0.04301552106430155, 'discrep': 0.032815964523281595, 'tentat': 0.03503325942350333, 'certain': 0.02638580931263858, 'inhib': 0.011751662971175166, 'incl': 0.1048780487804878, 'excl': 0.050997782705099776, 'percept': 0.06097560975609756, 'see': 0.016186252771618625, 'hear': 0.029711751662971176, 'feel': 0.012416851441241685, 'bio': 0.02106430155210643, 'body': 0.010421286031042129, 'health': 0.004434589800443459, 'sexual': 0.004656319290465632, 'ingest': 0.0015521064301552106, 'relativ': 0.2033259423503326, 'motion': 0.026829268292682926, 'space': 0.09002217294900222, 'time': 0.08093126385809313, 'work': 0.05188470066518847, 'achieve': 0.05920177383592018, 'leisure': 0.010864745011086474, 'home': 0.0026607538802660754, 'money': 0.038580931263858094, 'relig': 0.0006651884700665188, 'death': 0.0008869179600886918, 'assent': 0.0022172949002217295, 'nonfl': 0.003991130820399113}\n"
          ],
          "name": "stdout"
        }
      ]
    },
    {
      "cell_type": "code",
      "metadata": {
        "id": "1RoQtsx5z-zF"
      },
      "source": [
        "# Running LIWC on pre-processed data\r\n",
        "amazon_all_clean = aggregate(X_clean['amazon'])\r\n",
        "imdb_all_clean = aggregate(X_clean['imdb'])\r\n",
        "yelp_all_clean = aggregate(X_clean['yelp'])\r\n",
        "all_aggregate_clean = aggregate(X_clean['all'])\r\n",
        "\r\n",
        "liwc_amazon_clean = liwc_calc(amazon_all_clean)\r\n",
        "liwc_imdb_clean = liwc_calc(imdb_all_clean)\r\n",
        "liwc_yelp_clean = liwc_calc(yelp_all_clean)\r\n",
        "liwc_all_clean = liwc_calc(all_aggregate_clean)"
      ],
      "execution_count": 54,
      "outputs": []
    },
    {
      "cell_type": "code",
      "metadata": {
        "id": "KIrUfzZHzau0",
        "colab": {
          "base_uri": "https://localhost:8080/",
          "height": 826
        },
        "outputId": "5cd70e5b-7422-4a40-9f99-969cd68d2aff"
      },
      "source": [
        "import matplotlib.pyplot as plt\r\n",
        "\r\n",
        "\r\n",
        "plt.figure()\r\n",
        "plt.title(\"Normalized Amazon LIWC Distribution\")\r\n",
        "plt.bar(normalize_liwc(liwc_amazon_clean).keys(), normalize_liwc(liwc_amazon_clean).values())\r\n",
        "\r\n",
        "plt.figure()\r\n",
        "plt.title(\"Normalized Yelp LIWC Distribution\")\r\n",
        "plt.bar(normalize_liwc(liwc_yelp_clean).keys(), normalize_liwc(liwc_yelp_clean).values())\r\n",
        "\r\n",
        "plt.figure()\r\n",
        "plt.title(\"Normalized IMDB LIWC Distribution\")\r\n",
        "plt.bar(normalize_liwc(liwc_imdb_clean).keys(), normalize_liwc(liwc_imdb_clean).values())\r\n"
      ],
      "execution_count": 55,
      "outputs": [
        {
          "output_type": "execute_result",
          "data": {
            "text/plain": [
              "<BarContainer object of 61 artists>"
            ]
          },
          "metadata": {
            "tags": []
          },
          "execution_count": 55
        },
        {
          "output_type": "display_data",
          "data": {
            "image/png": "[encoded data removed]",
            "text/plain": [
              "<Figure size 432x288 with 1 Axes>"
            ]
          },
          "metadata": {
            "tags": [],
            "needs_background": "light"
          }
        },
        {
          "output_type": "display_data",
          "data": {
            "image/png": "[encoded data removed]",
            "text/plain": [
              "<Figure size 432x288 with 1 Axes>"
            ]
          },
          "metadata": {
            "tags": [],
            "needs_background": "light"
          }
        },
        {
          "output_type": "display_data",
          "data": {
            "image/png": "[encoded data removed]",
            "text/plain": [
              "<Figure size 432x288 with 1 Axes>"
            ]
          },
          "metadata": {
            "tags": [],
            "needs_background": "light"
          }
        }
      ]
    },
    {
      "cell_type": "markdown",
      "metadata": {
        "id": "74f4iYvPsSdJ"
      },
      "source": [
        "## Text Length\n"
      ]
    },
    {
      "cell_type": "code",
      "metadata": {
        "id": "e-IWY9plrIBQ"
      },
      "source": [
        "def avg_len(data):\n",
        "  sum = 0\n",
        "  for i in range(1000):\n",
        "    sum += len(data[i])\n",
        "  return sum/1000"
      ],
      "execution_count": 56,
      "outputs": []
    },
    {
      "cell_type": "code",
      "metadata": {
        "id": "01rzuRa_sC-s",
        "colab": {
          "base_uri": "https://localhost:8080/"
        },
        "outputId": "60dce876-942e-42bf-e150-262bb9389e45"
      },
      "source": [
        "print (\"Amazon average sentence length\", avg_len(X_clean['amazon']))\n",
        "print (\"Imdb average sentence length\", avg_len(X_clean['imdb']))\n",
        "print (\"Yelp average sentence length\", avg_len(X_clean['yelp']))\n",
        "print (\"All average sentence length\", avg_len(X_clean['all']))"
      ],
      "execution_count": 57,
      "outputs": [
        {
          "output_type": "stream",
          "text": [
            "Amazon average sentence length 34.509\n",
            "Imdb average sentence length 51.493\n",
            "Yelp average sentence length 36.136\n",
            "All average sentence length 34.509\n"
          ],
          "name": "stdout"
        }
      ]
    },
    {
      "cell_type": "markdown",
      "metadata": {
        "id": "8OOhiZjN7P6E"
      },
      "source": [
        "## LIWC on correct and incorrect classifications"
      ]
    },
    {
      "cell_type": "code",
      "metadata": {
        "id": "yIso3npj0gaa"
      },
      "source": [
        "model = svm.SVC(C=0.5, break_ties=False, cache_size=200, class_weight=None, coef0=0.0,\n",
        "    decision_function_shape='ovr', degree=1, gamma='scale', kernel='poly',\n",
        "    max_iter=-1, probability=True, random_state=None, shrinking=True, tol=0.001,\n",
        "    verbose=False)\n",
        "\n",
        "clf.fit(x_train_features, y_train)\n",
        "preds = clf.predict(x_test_features)"
      ],
      "execution_count": 58,
      "outputs": []
    },
    {
      "cell_type": "code",
      "metadata": {
        "id": "xjPQzQcy71lo",
        "colab": {
          "base_uri": "https://localhost:8080/"
        },
        "outputId": "c857c07a-c02b-44ad-b095-5a9da0081634"
      },
      "source": [
        "X_train_1, X_test_1, y_train_1, y_test_1 = train_test_split(X['all'], y['all'], test_size=0.2, random_state=69)\n",
        "X_valid_1, X_test_1, y_valid_1, y_test_1 = train_test_split(X_test_1, y_test_1, test_size=0.5, stratify = y_test_1, random_state=69)\n",
        "\n",
        "print(X_train_1[10])\n",
        "print(X_train[10])"
      ],
      "execution_count": 59,
      "outputs": [
        {
          "output_type": "stream",
          "text": [
            "I waited and waited.\n",
            "waited waited\n"
          ],
          "name": "stdout"
        }
      ]
    },
    {
      "cell_type": "code",
      "metadata": {
        "id": "2Z4KVp3o7O8n",
        "colab": {
          "base_uri": "https://localhost:8080/"
        },
        "outputId": "e9d9b74e-1cda-4a33-ef9c-a49960eef934"
      },
      "source": [
        "misclassified = []\n",
        "correct = []\n",
        "\n",
        "for row_index, (input, prediction, label) in enumerate(zip (X_test, preds, y_test)):\n",
        "  if prediction != label:\n",
        "    misclassified.append(X_test_1[row_index])\n",
        "  else:\n",
        "    correct.append(X_test_1[row_index])\n",
        "\n",
        "print(len(misclassified))\n",
        "print(len(correct))\n",
        "print(liwc_calc(aggregate(misclassified)))\n",
        "print(liwc_calc(aggregate(correct)))"
      ],
      "execution_count": 60,
      "outputs": [
        {
          "output_type": "stream",
          "text": [
            "51\n",
            "249\n",
            "{'funct': 328, 'pronoun': 55, 'ppron': 24, 'i': 9, 'we': 7, 'you': 7, 'shehe': 1, 'ipron': 31, 'article': 40, 'verb': 92, 'auxverb': 65, 'past': 28, 'present': 52, 'future': 5, 'adverb': 31, 'preps': 67, 'conj': 46, 'negate': 16, 'quant': 18, 'number': 8, 'social': 36, 'family': 2, 'friend': 1, 'humans': 1, 'affect': 25, 'posemo': 19, 'negemo': 6, 'anger': 1, 'sad': 2, 'cogmech': 112, 'insight': 9, 'cause': 13, 'discrep': 10, 'tentat': 9, 'certain': 13, 'inhib': 2, 'incl': 41, 'excl': 21, 'percept': 27, 'see': 5, 'hear': 13, 'feel': 5, 'bio': 11, 'body': 7, 'health': 1, 'ingest': 3, 'relativ': 58, 'motion': 3, 'space': 32, 'time': 22, 'work': 7, 'achieve': 8, 'leisure': 16, 'home': 1, 'money': 6, 'relig': 2, 'assent': 1}\n",
            "{'funct': 1340, 'pronoun': 232, 'ppron': 86, 'i': 33, 'we': 11, 'you': 16, 'shehe': 12, 'they': 14, 'ipron': 146, 'article': 191, 'verb': 375, 'auxverb': 267, 'past': 131, 'present': 197, 'future': 17, 'adverb': 135, 'preps': 286, 'conj': 170, 'negate': 50, 'quant': 65, 'number': 17, 'swear': 1, 'social': 149, 'family': 2, 'friend': 11, 'humans': 8, 'affect': 220, 'posemo': 148, 'negemo': 72, 'anx': 8, 'anger': 20, 'sad': 21, 'cogmech': 424, 'insight': 44, 'cause': 42, 'discrep': 41, 'tentat': 55, 'certain': 38, 'inhib': 9, 'incl': 142, 'excl': 74, 'percept': 80, 'see': 26, 'hear': 20, 'feel': 19, 'bio': 67, 'body': 9, 'health': 7, 'sexual': 8, 'ingest': 43, 'relativ': 246, 'motion': 27, 'space': 134, 'time': 79, 'work': 48, 'achieve': 64, 'leisure': 59, 'home': 6, 'money': 27, 'relig': 3, 'death': 3, 'assent': 2, 'nonfl': 5}\n"
          ],
          "name": "stdout"
        }
      ]
    },
    {
      "cell_type": "code",
      "metadata": {
        "id": "1Du_Xf8C4Ssa"
      },
      "source": [
        ""
      ],
      "execution_count": 60,
      "outputs": []
    }
  ]
}